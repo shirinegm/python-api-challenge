{
 "cells": [
  {
   "cell_type": "markdown",
   "metadata": {},
   "source": [
    "# VacationPy\n",
    "----\n",
    "\n",
    "#### Note\n",
    "* Keep an eye on your API usage. Use https://developers.google.com/maps/reporting/gmp-reporting as reference for how to monitor your usage and billing.\n",
    "\n",
    "* Instructions have been included for each segment. You do not have to follow them exactly, but they are included to help you think through the steps."
   ]
  },
  {
   "cell_type": "code",
   "execution_count": null,
   "metadata": {},
   "outputs": [],
   "source": [
    "# Dependencies and Setup\n",
    "import matplotlib.pyplot as plt\n",
    "import pandas as pd\n",
    "import numpy as np\n",
    "import requests\n",
    "import gmaps\n",
    "import os\n",
    "import json\n",
    "\n",
    "# Import API key\n",
    "from config import gkey"
   ]
  },
  {
   "cell_type": "markdown",
   "metadata": {},
   "source": [
    "### Store Part I results into DataFrame\n",
    "* Load the csv exported in Part I to a DataFrame"
   ]
  },
  {
   "cell_type": "code",
   "execution_count": null,
   "metadata": {},
   "outputs": [],
   "source": [
    "city_weather_df = pd.read_csv('cities_weather_df.csv')\n",
    "city_weather_df.head()"
   ]
  },
  {
   "cell_type": "code",
   "execution_count": null,
   "metadata": {},
   "outputs": [],
   "source": [
    "world_cities_df = pd.read_csv('citipy/worldcities.csv')\n",
    "world_cities_df = world_cities_df.rename(columns={\"City\": \"city\"})\n",
    "world_cities_df.head()"
   ]
  },
  {
   "cell_type": "code",
   "execution_count": null,
   "metadata": {},
   "outputs": [],
   "source": [
    "# inner merge with worldcities to get real lat and long and Country\n",
    "city_weather_merge = pd.merge(city_weather_df, world_cities_df, on=\"city\")\n",
    "\n",
    "#dump fake lat and lon and keep cities lat and longs\n",
    "city_weather_merge = city_weather_merge[['city', 'temperature', 'humidity', \n",
    "                                         'cloudiness', 'wind_speed', 'Country',\n",
    "                                         'Latitude', 'Longitude']]\n",
    "\n",
    "# and fix lat and lon column names to make it work for the rest of the code\n",
    "city_weather_merge = city_weather_merge.rename(columns={\"Latitude\": \"latitude\", \"Longitude\": \"longitude\",\n",
    "                                                 \"Country\": \"country\"})\n",
    "\n",
    "city_weather_merge = city_weather_merge.drop_duplicates(subset=['city'])\n",
    "city_weather_merge"
   ]
  },
  {
   "cell_type": "markdown",
   "metadata": {},
   "source": [
    "### Humidity Heatmap\n",
    "* Configure gmaps.\n",
    "* Use the Lat and Lng as locations and Humidity as the weight.\n",
    "* Add Heatmap layer to map."
   ]
  },
  {
   "cell_type": "code",
   "execution_count": null,
   "metadata": {},
   "outputs": [],
   "source": [
    "gmaps.configure(api_key=gkey)\n",
    "\n",
    "cities = city_weather_merge[['latitude','longitude']]\n",
    "humidity = city_weather_merge['humidity']"
   ]
  },
  {
   "cell_type": "code",
   "execution_count": null,
   "metadata": {},
   "outputs": [],
   "source": [
    "fig = gmaps.figure(zoom_level=2, center=(0,0))\n",
    "heat_layer = gmaps.heatmap_layer(cities, weights=humidity, \n",
    "                                 dissipating=False, max_intensity=130, point_radius=4, opacity=0.4)\n",
    "fig.add_layer(heat_layer)\n",
    "fig"
   ]
  },
  {
   "cell_type": "markdown",
   "metadata": {},
   "source": [
    "### Create new DataFrame fitting weather criteria\n",
    "* Narrow down the cities to fit weather conditions.\n",
    "* Drop any rows will null values."
   ]
  },
  {
   "cell_type": "code",
   "execution_count": null,
   "metadata": {},
   "outputs": [],
   "source": [
    "ideal_cities_df = city_weather_merge.loc[(city_weather_merge['temperature'] > 70) & \n",
    "                                        (city_weather_merge['temperature'] < 100) &\n",
    "                                        (city_weather_merge['humidity'] < 60) &\n",
    "                                        (city_weather_merge['cloudiness'] < 5) &\n",
    "                                        (city_weather_merge['wind_speed'] < 10)\n",
    "                                     , :]\n",
    "ideal_cities_df = ideal_cities_df[['city', 'country', 'latitude', 'longitude', 'temperature', \n",
    "                                   'humidity', 'cloudiness', 'wind_speed']]\n",
    "ideal_cities_df"
   ]
  },
  {
   "cell_type": "markdown",
   "metadata": {},
   "source": [
    "### Hotel Map\n",
    "* Store into variable named `hotel_df`.\n",
    "* Add a \"Hotel Name\" column to the DataFrame.\n",
    "* Set parameters to search for hotels with 5000 meters.\n",
    "* Hit the Google Places API for each city's coordinates.\n",
    "* Store the first Hotel result into the DataFrame.\n",
    "* Plot markers on top of the heatmap."
   ]
  },
  {
   "cell_type": "code",
   "execution_count": null,
   "metadata": {},
   "outputs": [],
   "source": [
    "params = {\n",
    "    'radius': 5000,\n",
    "    'types': \"lodging\",\n",
    "    'key': gkey\n",
    "}\n",
    "\n",
    "hotel = []\n",
    "\n",
    "for index, row in ideal_cities_df.iterrows():\n",
    "    lat = row['latitude']\n",
    "    lon = row['longitude']\n",
    "    params['location'] = f\"{lat},{lon}\"\n",
    "    base_url = \"https://maps.googleapis.com/maps/api/place/nearbysearch/json\"\n",
    "    \n",
    "    try:\n",
    "        response = requests.get(base_url, params=params).json()\n",
    "        hotel.append(response[\"results\"][0][\"name\"])\n",
    "        print(f\"{index} processed successfully\")\n",
    "        \n",
    "    except (KeyError, IndexError):\n",
    "        print(\"Missing field/result... skipping.\")"
   ]
  },
  {
   "cell_type": "code",
   "execution_count": null,
   "metadata": {},
   "outputs": [],
   "source": [
    "cities = ideal_cities_df['city'].str.capitalize()\n",
    "countries = ideal_cities_df['country'].str.upper()\n",
    "latitudes = ideal_cities_df['latitude']\n",
    "longitudes = ideal_cities_df['longitude']\n",
    "\n",
    "hotel_dict = {\n",
    "    \"Hotel Name\": hotel,\n",
    "    \"City\": cities,\n",
    "    \"Country\": countries,\n",
    "    \"Lat\": latitudes,\n",
    "    \"Lng\": longitudes\n",
    "} \n",
    "\n",
    "hotel_df = pd.DataFrame(hotel_dict)\n",
    "hotel_df"
   ]
  },
  {
   "cell_type": "code",
   "execution_count": null,
   "metadata": {},
   "outputs": [],
   "source": [
    "# NOTE: Do not change any of the code in this cell\n",
    "\n",
    "# Using the template add the hotel marks to the heatmap\n",
    "info_box_template = \"\"\"\n",
    "<dl>\n",
    "<dt>Name</dt><dd>{Hotel Name}</dd>\n",
    "<dt>City</dt><dd>{City}</dd>\n",
    "<dt>Country</dt><dd>{Country}</dd>\n",
    "</dl>\n",
    "\"\"\"\n",
    "\n",
    "# Store the DataFrame Row\n",
    "# NOTE: be sure to update with your DataFrame name\n",
    "hotel_info = [info_box_template.format(**row) for index, row in hotel_df.iterrows()]\n",
    "locations = hotel_df[[\"Lat\", \"Lng\"]]"
   ]
  },
  {
   "cell_type": "code",
   "execution_count": null,
   "metadata": {},
   "outputs": [],
   "source": [
    "# Add marker layer ontop of heat map\n",
    "markers = gmaps.marker_layer(locations,\n",
    "    info_box_content=hotel_info)\n",
    "fig.add_layer(markers)\n",
    "fig\n",
    "\n",
    "# Display figure\n",
    "fig"
   ]
  },
  {
   "cell_type": "code",
   "execution_count": null,
   "metadata": {},
   "outputs": [],
   "source": []
  }
 ],
 "metadata": {
  "kernelspec": {
   "display_name": "Python 3",
   "language": "python",
   "name": "python3"
  },
  "language_info": {
   "codemirror_mode": {
    "name": "ipython",
    "version": 3
   },
   "file_extension": ".py",
   "mimetype": "text/x-python",
   "name": "python",
   "nbconvert_exporter": "python",
   "pygments_lexer": "ipython3",
   "version": "3.8.8"
  },
  "latex_envs": {
   "LaTeX_envs_menu_present": true,
   "autoclose": false,
   "autocomplete": true,
   "bibliofile": "biblio.bib",
   "cite_by": "apalike",
   "current_citInitial": 1,
   "eqLabelWithNumbers": true,
   "eqNumInitial": 1,
   "hotkeys": {
    "equation": "Ctrl-E",
    "itemize": "Ctrl-I"
   },
   "labels_anchors": false,
   "latex_user_defs": false,
   "report_style_numbering": false,
   "user_envs_cfg": false
  }
 },
 "nbformat": 4,
 "nbformat_minor": 4
}
