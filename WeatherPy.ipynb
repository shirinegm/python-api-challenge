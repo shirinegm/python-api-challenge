{
 "cells": [
  {
   "cell_type": "markdown",
   "id": "fcd9f0f5",
   "metadata": {},
   "source": [
    "# Weather Analysis"
   ]
  },
  {
   "cell_type": "code",
   "execution_count": 15,
   "id": "cf195158",
   "metadata": {},
   "outputs": [],
   "source": [
    "# Dependencies\n",
    "import sys\n",
    "import numpy as np"
   ]
  },
  {
   "cell_type": "code",
   "execution_count": 16,
   "id": "9f83f48b",
   "metadata": {},
   "outputs": [],
   "source": [
    "# install citypy\n",
    "sys.path.append('./lib/python3.8/site-packages')"
   ]
  },
  {
   "cell_type": "code",
   "execution_count": 17,
   "id": "8aeea488",
   "metadata": {},
   "outputs": [
    {
     "name": "stdout",
     "output_type": "stream",
     "text": [
      "City Name: manzil tamim, Country Code: tn\n"
     ]
    }
   ],
   "source": [
    "from citipy import citipy\n",
    "\n",
    "# test the citipy api\n",
    "city = citipy.nearest_city(36.81964369493615, 11.053632348043188)\n",
    "print(f\"City Name: {city.city_name}, Country Code: {city.country_code}\")"
   ]
  },
  {
   "cell_type": "markdown",
   "id": "0823eb5a",
   "metadata": {},
   "source": [
    "## API Calls:"
   ]
  },
  {
   "cell_type": "code",
   "execution_count": 18,
   "id": "3c75420b",
   "metadata": {},
   "outputs": [
    {
     "ename": "AttributeError",
     "evalue": "'dict' object has no attribute 'city_name'",
     "output_type": "error",
     "traceback": [
      "\u001b[0;31m---------------------------------------------------------------------------\u001b[0m",
      "\u001b[0;31mAttributeError\u001b[0m                            Traceback (most recent call last)",
      "\u001b[0;32m<ipython-input-18-a5b6eff15df5>\u001b[0m in \u001b[0;36m<module>\u001b[0;34m\u001b[0m\n\u001b[1;32m     15\u001b[0m     \u001b[0;32mfor\u001b[0m \u001b[0mlon\u001b[0m \u001b[0;32min\u001b[0m \u001b[0mnp\u001b[0m\u001b[0;34m.\u001b[0m\u001b[0marange\u001b[0m\u001b[0;34m(\u001b[0m\u001b[0mminlon\u001b[0m\u001b[0;34m,\u001b[0m \u001b[0mmaxlon\u001b[0m\u001b[0;34m,\u001b[0m \u001b[0;36m6.4\u001b[0m\u001b[0;34m)\u001b[0m\u001b[0;34m:\u001b[0m\u001b[0;34m\u001b[0m\u001b[0;34m\u001b[0m\u001b[0m\n\u001b[1;32m     16\u001b[0m         \u001b[0mcity\u001b[0m \u001b[0;34m=\u001b[0m \u001b[0mcitipy\u001b[0m\u001b[0;34m.\u001b[0m\u001b[0mnearest_city\u001b[0m\u001b[0;34m(\u001b[0m\u001b[0mlat\u001b[0m\u001b[0;34m,\u001b[0m \u001b[0mlon\u001b[0m\u001b[0;34m)\u001b[0m\u001b[0;34m\u001b[0m\u001b[0;34m\u001b[0m\u001b[0m\n\u001b[0;32m---> 17\u001b[0;31m         \u001b[0mrandom_cities\u001b[0m\u001b[0;34m.\u001b[0m\u001b[0mcity_name\u001b[0m \u001b[0;34m=\u001b[0m \u001b[0mcity\u001b[0m\u001b[0;34m.\u001b[0m\u001b[0mcity_name\u001b[0m\u001b[0;34m\u001b[0m\u001b[0;34m\u001b[0m\u001b[0m\n\u001b[0m\u001b[1;32m     18\u001b[0m         \u001b[0mrandom_cities\u001b[0m\u001b[0;34m.\u001b[0m\u001b[0mcountry_code\u001b[0m \u001b[0;34m=\u001b[0m \u001b[0mcity\u001b[0m\u001b[0;34m.\u001b[0m\u001b[0mcountry_code\u001b[0m\u001b[0;34m\u001b[0m\u001b[0;34m\u001b[0m\u001b[0m\n\u001b[1;32m     19\u001b[0m \u001b[0;34m\u001b[0m\u001b[0m\n",
      "\u001b[0;31mAttributeError\u001b[0m: 'dict' object has no attribute 'city_name'"
     ]
    }
   ],
   "source": [
    "# Randomly select at least 500 unique (non-repeat) cities based on latitude and longitude.\n",
    "\n",
    "# Define min and max longitudes and latitudes. \n",
    "# Google says Latitudes range from -90 to 90, and longitudes range from -180 to 180\n",
    "minlat = -90\n",
    "maxlat = 90\n",
    "\n",
    "minlon = -180\n",
    "maxlon = 180\n",
    "random_cities = {\"city_name\":\"\", \"country_code\":\"\"}\n",
    "i = 0\n",
    "\n",
    "# loop through latitude and longitude range to pick nearest city and append to dictionary\n",
    "\n",
    "for lat in np.arange(minlat, maxlat, 7.2):\n",
    "    for lon in np.arange(minlon, maxlon, 6.4):\n",
    "        city = citipy.nearest_city(lat, lon)\n",
    "        random_cities.city_name = city.city_name\n",
    "        random_cities.country_code = city.country_code\n",
    "        \n",
    "# save it to a dataframe for quick check\n",
    "pd.DataFrame(random_cities, index=[0]).T.head()\n"
   ]
  },
  {
   "cell_type": "code",
   "execution_count": null,
   "id": "4c46e7a6",
   "metadata": {},
   "outputs": [],
   "source": [
    "# Perform a weather check on each of the cities using a series of successive API calls."
   ]
  },
  {
   "cell_type": "code",
   "execution_count": null,
   "id": "5c2eac40",
   "metadata": {},
   "outputs": [],
   "source": [
    "# Include a print log of each city as it's being processed with the city number and city name"
   ]
  },
  {
   "cell_type": "markdown",
   "id": "42c2e63e",
   "metadata": {},
   "source": [
    "## Scatter Plots:"
   ]
  },
  {
   "cell_type": "markdown",
   "id": "9d549bb4",
   "metadata": {},
   "source": [
    "### Scatter plot for Temperature (F) vs. Latitude"
   ]
  },
  {
   "cell_type": "code",
   "execution_count": null,
   "id": "8ef54a6e",
   "metadata": {},
   "outputs": [],
   "source": []
  },
  {
   "cell_type": "code",
   "execution_count": null,
   "id": "22f1f5c8",
   "metadata": {},
   "outputs": [],
   "source": [
    "## Save a CSV of all retrieved data and a PNG image for each scatter plot"
   ]
  },
  {
   "cell_type": "code",
   "execution_count": null,
   "id": "47584fb1",
   "metadata": {},
   "outputs": [],
   "source": [
    "## Explanation"
   ]
  },
  {
   "cell_type": "code",
   "execution_count": null,
   "id": "20887906",
   "metadata": {},
   "outputs": [],
   "source": [
    "# scatter plot for Humidity (%) vs. Latitude\n"
   ]
  },
  {
   "cell_type": "code",
   "execution_count": null,
   "id": "46550d37",
   "metadata": {},
   "outputs": [],
   "source": [
    "## Save a CSV of all retrieved data and a PNG image for each scatter plot"
   ]
  },
  {
   "cell_type": "code",
   "execution_count": null,
   "id": "458eda11",
   "metadata": {},
   "outputs": [],
   "source": [
    "## Explanation"
   ]
  },
  {
   "cell_type": "code",
   "execution_count": null,
   "id": "40dc7541",
   "metadata": {},
   "outputs": [],
   "source": [
    "# scatter plot for Cloudiness (%) vs. Latitude\n"
   ]
  },
  {
   "cell_type": "code",
   "execution_count": null,
   "id": "c0e27c0a",
   "metadata": {},
   "outputs": [],
   "source": [
    "## Save a CSV of all retrieved data and a PNG image for each scatter plot"
   ]
  },
  {
   "cell_type": "code",
   "execution_count": null,
   "id": "7d6c94a5",
   "metadata": {},
   "outputs": [],
   "source": [
    "## Explanation"
   ]
  },
  {
   "cell_type": "code",
   "execution_count": null,
   "id": "55a767be",
   "metadata": {},
   "outputs": [],
   "source": [
    "# scatter plot for Wind Speed (mph) vs. Latitude\n"
   ]
  },
  {
   "cell_type": "code",
   "execution_count": null,
   "id": "f73f05b8",
   "metadata": {},
   "outputs": [],
   "source": [
    "## Save a CSV of all retrieved data and a PNG image for each scatter plot"
   ]
  },
  {
   "cell_type": "code",
   "execution_count": null,
   "id": "2124f010",
   "metadata": {},
   "outputs": [],
   "source": [
    "## Explanation"
   ]
  },
  {
   "cell_type": "markdown",
   "id": "ff3c43bb",
   "metadata": {},
   "source": [
    "## Linear Regressions:"
   ]
  },
  {
   "cell_type": "code",
   "execution_count": null,
   "id": "e10d02a1",
   "metadata": {},
   "outputs": [],
   "source": [
    "# Northern Hemisphere - Temperature (F) vs. Latitude\n",
    "# Southern Hemisphere - Temperature (F) vs. Latitude"
   ]
  },
  {
   "cell_type": "code",
   "execution_count": null,
   "id": "03b2973a",
   "metadata": {},
   "outputs": [],
   "source": [
    "## Save a CSV of all retrieved data and a PNG image for each scatter plot"
   ]
  },
  {
   "cell_type": "code",
   "execution_count": null,
   "id": "e2bafbaf",
   "metadata": {},
   "outputs": [],
   "source": [
    "## Analysis"
   ]
  },
  {
   "cell_type": "code",
   "execution_count": null,
   "id": "87405154",
   "metadata": {},
   "outputs": [],
   "source": [
    "# Northern Hemisphere - Humidity (%) vs. Latitude\n",
    "# Southern Hemisphere - Humidity (%) vs. Latitude"
   ]
  },
  {
   "cell_type": "code",
   "execution_count": null,
   "id": "2d183a23",
   "metadata": {},
   "outputs": [],
   "source": [
    "## Save a CSV of all retrieved data and a PNG image for each scatter plot"
   ]
  },
  {
   "cell_type": "code",
   "execution_count": null,
   "id": "87b30e2a",
   "metadata": {},
   "outputs": [],
   "source": [
    "## Analysis"
   ]
  },
  {
   "cell_type": "code",
   "execution_count": null,
   "id": "39901fec",
   "metadata": {},
   "outputs": [],
   "source": [
    "# Northern Hemisphere - Cloudiness (%) vs. Latitude\n",
    "# Southern Hemisphere - Cloudiness (%) vs. Latitude"
   ]
  },
  {
   "cell_type": "code",
   "execution_count": null,
   "id": "65788245",
   "metadata": {},
   "outputs": [],
   "source": [
    "## Save a CSV of all retrieved data and a PNG image for each scatter plot"
   ]
  },
  {
   "cell_type": "code",
   "execution_count": null,
   "id": "9bb4d832",
   "metadata": {},
   "outputs": [],
   "source": [
    "## Analysis"
   ]
  },
  {
   "cell_type": "code",
   "execution_count": null,
   "id": "ba0d2955",
   "metadata": {},
   "outputs": [],
   "source": [
    "# Northern Hemisphere - Wind Speed (mph) vs. Latitude\n",
    "# Southern Hemisphere - Wind Speed (mph) vs. Latitude"
   ]
  },
  {
   "cell_type": "code",
   "execution_count": null,
   "id": "e3bcd457",
   "metadata": {},
   "outputs": [],
   "source": [
    "## Save a CSV of all retrieved data and a PNG image for each scatter plot"
   ]
  },
  {
   "cell_type": "code",
   "execution_count": null,
   "id": "6cfa2c8f",
   "metadata": {},
   "outputs": [],
   "source": [
    "## Analysis"
   ]
  }
 ],
 "metadata": {
  "kernelspec": {
   "display_name": "Python 3",
   "language": "python",
   "name": "python3"
  },
  "language_info": {
   "codemirror_mode": {
    "name": "ipython",
    "version": 3
   },
   "file_extension": ".py",
   "mimetype": "text/x-python",
   "name": "python",
   "nbconvert_exporter": "python",
   "pygments_lexer": "ipython3",
   "version": "3.8.8"
  }
 },
 "nbformat": 4,
 "nbformat_minor": 5
}
