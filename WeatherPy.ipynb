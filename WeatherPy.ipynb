{
 "cells": [
  {
   "cell_type": "markdown",
   "id": "c5ae70da",
   "metadata": {},
   "source": [
    "# Weather Analysis"
   ]
  },
  {
   "cell_type": "code",
   "execution_count": 40,
   "id": "c730f661",
   "metadata": {},
   "outputs": [],
   "source": [
    "# Dependencies\n",
    "import sys\n",
    "import numpy as np\n",
    "import pandas as pd\n",
    "from config import api_key\n",
    "import json\n",
    "import requests\n",
    "import time\n",
    "import matplotlib.pyplot as plt"
   ]
  },
  {
   "cell_type": "code",
   "execution_count": 22,
   "id": "605e846c",
   "metadata": {},
   "outputs": [],
   "source": [
    "# install citypy\n",
    "sys.path.append('./lib/python3.8/site-packages')"
   ]
  },
  {
   "cell_type": "code",
   "execution_count": 23,
   "id": "bf58a6bc",
   "metadata": {},
   "outputs": [
    {
     "name": "stdout",
     "output_type": "stream",
     "text": [
      "City Name: manzil tamim, Country Code: tn\n"
     ]
    }
   ],
   "source": [
    "from citipy import citipy\n",
    "\n",
    "# test the citipy api\n",
    "city = citipy.nearest_city(36.81964369493615, 11.053632348043188)\n",
    "print(f\"City Name: {city.city_name}, Country Code: {city.country_code}\")"
   ]
  },
  {
   "cell_type": "markdown",
   "id": "089ebebd",
   "metadata": {},
   "source": [
    "## API Calls:"
   ]
  },
  {
   "cell_type": "markdown",
   "id": "ae4884c0",
   "metadata": {},
   "source": [
    "### CitiPy"
   ]
  },
  {
   "cell_type": "code",
   "execution_count": 24,
   "id": "970fb43f",
   "metadata": {},
   "outputs": [
    {
     "name": "stdout",
     "output_type": "stream",
     "text": [
      "['city_name', 'country_code', 'lat', 'lon']\n"
     ]
    }
   ],
   "source": [
    "# Randomly select at least 500 unique (non-repeat) cities based on latitude and longitude.\n",
    "\n",
    "# Define min and max longitudes and latitudes. \n",
    "# Google says Latitudes range from -90 to 90, and longitudes range from -180 to 180\n",
    "minlat = -90\n",
    "maxlat = 90\n",
    "\n",
    "minlon = -180\n",
    "maxlon = 180\n",
    "i = 0\n",
    "\n",
    "random_cities = {i:[\"city_name\", \"country_code\", \"lat\", \"lon\"]}\n",
    "\n",
    "print(random_cities[i])\n"
   ]
  },
  {
   "cell_type": "code",
   "execution_count": 25,
   "id": "11c6716b",
   "metadata": {},
   "outputs": [],
   "source": [
    "# loop through latitude and longitude range to pick nearest city and append to dictionary\n",
    "\n",
    "for lat in np.arange(minlat, maxlat, 7.2):\n",
    "    for lon in np.arange(minlon, maxlon, 6.4):\n",
    "        city = citipy.nearest_city(lat, lon)\n",
    "        cityName = city.city_name\n",
    "        countryCode = city.country_code\n",
    "        i = i + 1\n",
    "        random_cities[i] = [cityName, countryCode, lat, lon]\n",
    "        "
   ]
  },
  {
   "cell_type": "code",
   "execution_count": 26,
   "id": "fb861453",
   "metadata": {},
   "outputs": [
    {
     "data": {
      "text/plain": [
       "1425"
      ]
     },
     "execution_count": 26,
     "metadata": {},
     "output_type": "execute_result"
    }
   ],
   "source": [
    "# move into a Dataframe for some checks and duplicates clean up\n",
    "random_cities_df = pd.DataFrame.from_dict(random_cities, orient='index', columns=random_cities[0])\n",
    "\n",
    "## remove first row after making it a header\n",
    "random_cities_df = random_cities_df.iloc[1: , :]\n",
    "random_cities_df[\"city_name\"].count()"
   ]
  },
  {
   "cell_type": "code",
   "execution_count": 27,
   "id": "ce6c37b4",
   "metadata": {},
   "outputs": [
    {
     "data": {
      "text/plain": [
       "649"
      ]
     },
     "execution_count": 27,
     "metadata": {},
     "output_type": "execute_result"
    }
   ],
   "source": [
    "## remove duplicates\n",
    "\n",
    "random_cities_df = random_cities_df.drop_duplicates(subset=['city_name'])\n",
    "random_cities_df[\"city_name\"].count()"
   ]
  },
  {
   "cell_type": "code",
   "execution_count": 28,
   "id": "c326c9ae",
   "metadata": {},
   "outputs": [],
   "source": [
    "# random_cities_df.head()\n",
    "# random_cities_df.index\n",
    "len(random_cities_df['city_name'])\n",
    "\n",
    "# check for any NaN\n",
    "random_cities_df = random_cities_df.dropna(how='any')"
   ]
  },
  {
   "cell_type": "code",
   "execution_count": 29,
   "id": "b25a280b",
   "metadata": {},
   "outputs": [
    {
     "data": {
      "text/plain": [
       "649"
      ]
     },
     "execution_count": 29,
     "metadata": {},
     "output_type": "execute_result"
    }
   ],
   "source": [
    "random_cities_df[\"city_name\"].count()"
   ]
  },
  {
   "cell_type": "markdown",
   "id": "6f21a56c",
   "metadata": {},
   "source": [
    "### OpenWeather API"
   ]
  },
  {
   "cell_type": "code",
   "execution_count": 30,
   "id": "921d331d",
   "metadata": {},
   "outputs": [],
   "source": [
    "# Perform a weather check on each of the cities using a series of successive API calls.\n",
    "\n",
    "# set up base url for historical api\n",
    "# url = f'http://api.openweathermap.org/data/2.5/onecall/timemachine?lat=-90.0&lon=-180.0&dt=1634445108&appid={api_key}'\n",
    "\n",
    "# Let's try out some calls\n",
    "# weather_response = requests.get(url)\n",
    "# weather_json = weather_response.json()\n",
    "# print(f\"The weather API responded with: {weather_json}.\")\n"
   ]
  },
  {
   "cell_type": "code",
   "execution_count": 31,
   "id": "5bcdfa93",
   "metadata": {},
   "outputs": [],
   "source": [
    "# try out some json traversal\n",
    "#print(f\"The Temperature for Vaini is : {weather_json['current']['temp']}\")"
   ]
  },
  {
   "cell_type": "code",
   "execution_count": 32,
   "id": "c3e81a9f",
   "metadata": {},
   "outputs": [],
   "source": [
    "base_url = 'http://api.openweathermap.org/data/2.5/onecall/timemachine?lat='\n"
   ]
  },
  {
   "cell_type": "code",
   "execution_count": 33,
   "id": "5b556f9b",
   "metadata": {},
   "outputs": [
    {
     "name": "stdout",
     "output_type": "stream",
     "text": [
      "1634600593\n"
     ]
    }
   ],
   "source": [
    "# loop through the latitude and longitude combinations and get a weather json for each\n",
    "# Include a print log of each city as it's being processed with the city number and city name\n",
    "# add 1 second wait time\n",
    "\n",
    "# get the time code now\n",
    "now = int (time.time())\n",
    "print(now)"
   ]
  },
  {
   "cell_type": "code",
   "execution_count": 34,
   "id": "49e080ca",
   "metadata": {},
   "outputs": [
    {
     "name": "stdout",
     "output_type": "stream",
     "text": [
      "vaini processed successfully\n",
      "mataura processed successfully\n",
      "rikitea processed successfully\n",
      "punta arenas processed successfully\n",
      "ushuaia processed successfully\n",
      "hermanus processed successfully\n",
      "bredasdorp processed successfully\n",
      "port elizabeth processed successfully\n",
      "port alfred processed successfully\n",
      "taolanaro processed successfully\n",
      "busselton processed successfully\n",
      "albany processed successfully\n",
      "new norfolk processed successfully\n",
      "hobart processed successfully\n",
      "bluff processed successfully\n",
      "cape town processed successfully\n",
      "east london processed successfully\n",
      "kaitangata processed successfully\n",
      "avarua processed successfully\n",
      "mar del plata processed successfully\n",
      "chuy processed successfully\n",
      "saint-philippe processed successfully\n",
      "cidreira processed successfully\n",
      "souillac processed successfully\n",
      "portland processed successfully\n",
      "castro processed successfully\n",
      "arraial do cabo processed successfully\n",
      "kruisfontein processed successfully\n",
      "tsihombe processed successfully\n",
      "esperance processed successfully\n",
      "tuatapere processed successfully\n",
      "dunedin processed successfully\n",
      "coihaique processed successfully\n",
      "comodoro rivadavia processed successfully\n",
      "viedma processed successfully\n",
      "jamestown processed successfully\n",
      "umzimvubu processed successfully\n",
      "mahebourg processed successfully\n",
      "mount gambier processed successfully\n",
      "waipawa processed successfully\n",
      "ancud processed successfully\n",
      "valdivia processed successfully\n",
      "villarrica processed successfully\n",
      "necochea processed successfully\n",
      "maldonado processed successfully\n",
      "saldanha processed successfully\n",
      "bambous virieux processed successfully\n",
      "port lincoln processed successfully\n",
      "wonthaggi processed successfully\n",
      "batemans bay processed successfully\n",
      "kiama processed successfully\n",
      "te anau processed successfully\n",
      "takaka processed successfully\n",
      "gisborne processed successfully\n",
      "lebu processed successfully\n",
      "constitucion processed successfully\n",
      "la ligua processed successfully\n",
      "rio tercero processed successfully\n",
      "concepcion del uruguay processed successfully\n",
      "rio grande processed successfully\n",
      "laguna processed successfully\n",
      "sao joao da barra processed successfully\n",
      "luderitz processed successfully\n",
      "oranjemund processed successfully\n",
      "vredendal processed successfully\n",
      "graaff-reinet processed successfully\n",
      "margate processed successfully\n",
      "richards bay processed successfully\n",
      "saint-joseph processed successfully\n",
      "carnarvon processed successfully\n",
      "geraldton processed successfully\n",
      "mandurah processed successfully\n",
      "flinders processed successfully\n",
      "broken hill processed successfully\n",
      "forbes processed successfully\n",
      "taree processed successfully\n",
      "port macquarie processed successfully\n",
      "ahipara processed successfully\n",
      "ngunguru processed successfully\n",
      "alofi processed successfully\n",
      "avera processed successfully\n",
      "puerto ayora processed successfully\n",
      "pisco processed successfully\n",
      "marcona processed successfully\n",
      "taltal processed successfully\n",
      "salta processed successfully\n",
      "asuncion processed successfully\n",
      "laranjeiras do sul processed successfully\n",
      "guaruja processed successfully\n",
      "vila velha processed successfully\n",
      "walvis bay processed successfully\n",
      "mariental processed successfully\n",
      "kanye processed successfully\n",
      "witrivier processed successfully\n",
      "inhambane processed successfully\n",
      "ampanihy processed successfully\n",
      "vangaindrano processed successfully\n",
      "grand river south east processed successfully\n",
      "port hedland processed successfully\n",
      "yulara processed successfully\n",
      "alice springs processed successfully\n",
      "mount isa processed successfully\n",
      "emerald processed successfully\n",
      "torquay processed successfully\n",
      "kawana waters processed successfully\n",
      "noumea processed successfully\n",
      "vao processed successfully\n",
      "isangel processed successfully\n",
      "neiafu processed successfully\n",
      "vaitape processed successfully\n",
      "tautira processed successfully\n",
      "hualmay processed successfully\n",
      "ilo processed successfully\n",
      "comarapa processed successfully\n",
      "puerto quijarro processed successfully\n",
      "jatai processed successfully\n",
      "joao pinheiro processed successfully\n",
      "nova vicosa processed successfully\n",
      "prado processed successfully\n",
      "maceio processed successfully\n",
      "georgetown processed successfully\n",
      "namibe processed successfully\n",
      "opuwo processed successfully\n",
      "rundu processed successfully\n",
      "kachikau processed successfully\n",
      "chitungwiza processed successfully\n",
      "quelimane processed successfully\n",
      "miandrivazo processed successfully\n",
      "toamasina processed successfully\n",
      "cap malheureux processed successfully\n",
      "quatre cocos processed successfully\n",
      "hithadhoo processed successfully\n",
      "bengkulu processed successfully\n",
      "labuhan processed successfully\n",
      "palabuhanratu processed successfully\n",
      "karratha processed successfully\n",
      "broome processed successfully\n",
      "kununurra processed successfully\n",
      "ngukurr processed successfully\n",
      "innisfail processed successfully\n",
      "mackay processed successfully\n",
      "poum processed successfully\n",
      "pouebo processed successfully\n",
      "vaitupu processed successfully\n",
      "falealupo processed successfully\n",
      "samusu processed successfully\n",
      "faanui processed successfully\n",
      "fare processed successfully\n",
      "atuona processed successfully\n",
      "san cristobal processed successfully\n",
      "chicama processed successfully\n",
      "supe processed successfully\n",
      "iberia processed successfully\n",
      "guajara-mirim processed successfully\n",
      "vilhena processed successfully\n",
      "formoso do araguaia processed successfully\n",
      "corrente processed successfully\n",
      "quijingue processed successfully\n",
      "maragogi processed successfully\n",
      "olinda processed successfully\n",
      "luanda processed successfully\n",
      "sumbe processed successfully\n",
      "camacupa processed successfully\n",
      "mwinilunga processed successfully\n",
      "kasama processed successfully\n",
      "tunduru processed successfully\n",
      "mitsamiouli processed successfully\n",
      "ambilobe processed successfully\n",
      "victoria processed successfully\n",
      "kawalu processed successfully\n",
      "denpasar processed successfully\n",
      "waingapu processed successfully\n",
      "atambua processed successfully\n",
      "maningrida processed successfully\n",
      "merauke processed successfully\n",
      "port moresby processed successfully\n",
      "samarai processed successfully\n",
      "honiara processed successfully\n",
      "lata processed successfully\n",
      "sola processed successfully\n",
      "asau processed successfully\n",
      "sataua processed successfully\n",
      "samalaeulu processed successfully\n",
      "el alto processed successfully\n",
      "gualaquiza processed successfully\n",
      "puerto narino processed successfully\n",
      "tefe processed successfully\n",
      "itacoatiara processed successfully\n",
      "altamira processed successfully\n",
      "santa ines processed successfully\n",
      "umirim processed successfully\n",
      "touros processed successfully\n",
      "nisia floresta processed successfully\n",
      "harper processed successfully\n",
      "takoradi processed successfully\n",
      "omboue processed successfully\n",
      "loubomo processed successfully\n",
      "bulungu processed successfully\n",
      "kindu processed successfully\n",
      "kakonko processed successfully\n",
      "lembeni processed successfully\n",
      "bur gabo processed successfully\n",
      "matara processed successfully\n",
      "meulaboh processed successfully\n",
      "padang processed successfully\n",
      "manggar processed successfully\n",
      "banjarmasin processed successfully\n",
      "singkang processed successfully\n",
      "ambon processed successfully\n",
      "nabire processed successfully\n",
      "vanimo processed successfully\n",
      "madang processed successfully\n",
      "namatanai processed successfully\n",
      "kieta processed successfully\n",
      "utiroa processed successfully\n",
      "rungata processed successfully\n",
      "saleaula processed successfully\n",
      "hilo processed successfully\n",
      "san patricio processed successfully\n",
      "lazaro cardenas processed successfully\n",
      "burica processed successfully\n",
      "buenaventura processed successfully\n",
      "puerto gaitan processed successfully\n",
      "inirida processed successfully\n",
      "lethem processed successfully\n",
      "saint-georges processed successfully\n",
      "salinopolis processed successfully\n",
      "itarema processed successfully\n",
      "sao filipe processed successfully\n",
      "goderich processed successfully\n",
      "robertsport processed successfully\n",
      "tabou processed successfully\n",
      "cape coast processed successfully\n",
      "yenagoa processed successfully\n",
      "akonolinga processed successfully\n",
      "mongoumba processed successfully\n",
      "buta processed successfully\n",
      "yumbe processed successfully\n",
      "mega processed successfully\n",
      "xuddur processed successfully\n",
      "hobyo processed successfully\n",
      "eyl processed successfully\n",
      "kudahuvadhoo processed successfully\n",
      "mahibadhoo processed successfully\n",
      "felidhoo processed successfully\n",
      "hambantota processed successfully\n",
      "banda aceh processed successfully\n",
      "tanjong malim processed successfully\n",
      "pemangkat processed successfully\n",
      "miri processed successfully\n",
      "manuk mangkaw processed successfully\n",
      "sarangani processed successfully\n",
      "kloulklubed processed successfully\n"
     ]
    },
    {
     "name": "stdout",
     "output_type": "stream",
     "text": [
      "biak processed successfully\n",
      "lorengau processed successfully\n",
      "kavieng processed successfully\n",
      "butaritari processed successfully\n",
      "kapaa processed successfully\n",
      "cabo san lucas processed successfully\n",
      "acapulco processed successfully\n",
      "pochutla processed successfully\n",
      "acajutla processed successfully\n",
      "pital processed successfully\n",
      "ailigandi processed successfully\n",
      "santa rita processed successfully\n",
      "barcelona processed successfully\n",
      "scarborough processed successfully\n",
      "mana processed successfully\n",
      "cayenne processed successfully\n",
      "acarau processed successfully\n",
      "oussouye processed successfully\n",
      "fria processed successfully\n",
      "kolondieba processed successfully\n",
      "bolgatanga processed successfully\n",
      "kontagora processed successfully\n",
      "biu processed successfully\n",
      "melfi processed successfully\n",
      "birao processed successfully\n",
      "abu jubayhah processed successfully\n",
      "finote selam processed successfully\n",
      "berbera processed successfully\n",
      "bargal processed successfully\n",
      "kavaratti processed successfully\n",
      "ponnani processed successfully\n",
      "mullaitivu processed successfully\n",
      "port blair processed successfully\n",
      "trat processed successfully\n",
      "phan thiet processed successfully\n",
      "taburi processed successfully\n",
      "suba processed successfully\n",
      "sulangan processed successfully\n",
      "meyungs processed successfully\n",
      "airai processed successfully\n",
      "nanakuli processed successfully\n",
      "guerrero negro processed successfully\n",
      "tomatlan processed successfully\n",
      "coalcoman processed successfully\n",
      "ayautla processed successfully\n",
      "reforma processed successfully\n",
      "barra patuca processed successfully\n",
      "mandeville processed successfully\n",
      "barahona processed successfully\n",
      "road town processed successfully\n",
      "saint-francois processed successfully\n",
      "bathsheba processed successfully\n",
      "sinnamary processed successfully\n",
      "ponta do sol processed successfully\n",
      "santa maria processed successfully\n",
      "bababe processed successfully\n",
      "nara processed successfully\n",
      "gao processed successfully\n",
      "arlit processed successfully\n",
      "bilma processed successfully\n",
      "faya processed successfully\n",
      "kutum processed successfully\n",
      "marawi processed successfully\n",
      "tawkar processed successfully\n",
      "najran processed successfully\n",
      "salalah processed successfully\n",
      "sur processed successfully\n",
      "veraval processed successfully\n",
      "tuljapur processed successfully\n",
      "chitrakonda processed successfully\n",
      "paradwip processed successfully\n",
      "myanaung processed successfully\n",
      "loei processed successfully\n",
      "dong hoi processed successfully\n",
      "wanning processed successfully\n",
      "padong processed successfully\n",
      "dicabisagan processed successfully\n",
      "alugan processed successfully\n",
      "kahului processed successfully\n",
      "lompoc processed successfully\n",
      "san quintin processed successfully\n",
      "topolobampo processed successfully\n",
      "san pedro processed successfully\n",
      "matamoros processed successfully\n",
      "progreso processed successfully\n",
      "key west processed successfully\n",
      "nassau processed successfully\n",
      "cockburn town processed successfully\n",
      "codrington processed successfully\n",
      "los llanos de aridane processed successfully\n",
      "aguimes processed successfully\n",
      "taoudenni processed successfully\n",
      "adrar processed successfully\n",
      "gat processed successfully\n",
      "awbari processed successfully\n",
      "sabha processed successfully\n",
      "jalu processed successfully\n",
      "el balyana processed successfully\n",
      "umm lajj processed successfully\n",
      "buraydah processed successfully\n",
      "umm bab processed successfully\n",
      "sharjah processed successfully\n",
      "pasni processed successfully\n",
      "kunri processed successfully\n",
      "keshorai patan processed successfully\n",
      "gyanpur processed successfully\n",
      "balurghat processed successfully\n",
      "phek processed successfully\n",
      "lianran processed successfully\n",
      "jinchengjiang processed successfully\n",
      "xiongzhou processed successfully\n",
      "chupei processed successfully\n",
      "itoman processed successfully\n",
      "naze processed successfully\n",
      "shingu processed successfully\n",
      "katsuura processed successfully\n",
      "hasaki processed successfully\n",
      "half moon bay processed successfully\n",
      "pacific grove processed successfully\n",
      "safford processed successfully\n",
      "hobbs processed successfully\n",
      "waxahachie processed successfully\n",
      "clinton processed successfully\n",
      "perry processed successfully\n",
      "north myrtle beach processed successfully\n",
      "havelock processed successfully\n",
      "hamilton processed successfully\n",
      "saint george processed successfully\n",
      "torbay processed successfully\n",
      "ribeira grande processed successfully\n",
      "ponta delgada processed successfully\n",
      "porto santo processed successfully\n",
      "marrakesh processed successfully\n",
      "wahran processed successfully\n",
      "warqla processed successfully\n",
      "jadu processed successfully\n",
      "benghazi processed successfully\n",
      "bardiyah processed successfully\n",
      "damietta processed successfully\n",
      "baghdad processed successfully\n",
      "shahr-e kord processed successfully\n",
      "ravar processed successfully\n",
      "farah processed successfully\n",
      "wana processed successfully\n",
      "chuari khas processed successfully\n",
      "jumla processed successfully\n",
      "lasa processed successfully\n",
      "along processed successfully\n",
      "linqiong processed successfully\n",
      "ankang processed successfully\n",
      "minggang processed successfully\n",
      "rucheng processed successfully\n",
      "fukue processed successfully\n",
      "nakamura processed successfully\n",
      "shimoda processed successfully\n",
      "sentyabrskiy processed successfully\n",
      "severo-kurilsk processed successfully\n",
      "nikolskoye processed successfully\n",
      "provideniya processed successfully\n",
      "kodiak processed successfully\n",
      "fortuna processed successfully\n",
      "chico processed successfully\n",
      "elko processed successfully\n",
      "redlands processed successfully\n",
      "fort morgan processed successfully\n",
      "manhattan processed successfully\n",
      "jacksonville processed successfully\n",
      "xenia processed successfully\n",
      "hagerstown processed successfully\n",
      "charlestown processed successfully\n",
      "shelburne processed successfully\n",
      "louisbourg processed successfully\n",
      "praia da vitoria processed successfully\n",
      "vila franca do campo processed successfully\n",
      "peniche processed successfully\n",
      "castelo branco processed successfully\n",
      "bunol processed successfully\n",
      "mahon processed successfully\n",
      "trapani processed successfully\n",
      "tricase processed successfully\n",
      "mirina processed successfully\n",
      "emirdag processed successfully\n",
      "sivas processed successfully\n",
      "igdir processed successfully\n",
      "turkan processed successfully\n",
      "gazanjyk processed successfully\n",
      "seydi processed successfully\n",
      "isfana processed successfully\n",
      "kashi processed successfully\n",
      "kuche processed successfully\n",
      "korla processed successfully\n",
      "yumen processed successfully\n",
      "jinchang processed successfully\n",
      "haibowan processed successfully\n",
      "xuanhua processed successfully\n",
      "lushunkou processed successfully\n",
      "seoul processed successfully\n",
      "vrangel processed successfully\n",
      "akita processed successfully\n",
      "nemuro processed successfully\n",
      "bethel processed successfully\n",
      "sitka processed successfully\n",
      "port hardy processed successfully\n",
      "ucluelet processed successfully\n",
      "elk plain processed successfully\n",
      "moscow processed successfully\n",
      "lewistown processed successfully\n",
      "dickinson processed successfully\n",
      "fargo processed successfully\n",
      "superior processed successfully\n",
      "sault sainte marie processed successfully\n",
      "deep river processed successfully\n",
      "quebec processed successfully\n",
      "shediac processed successfully\n",
      "channel-port aux basques processed successfully\n",
      "lagoa processed successfully\n",
      "muros processed successfully\n",
      "plouzane processed successfully\n",
      "les herbiers processed successfully\n",
      "lons-le-saunier processed successfully\n",
      "brunico processed successfully\n",
      "ozora processed successfully\n",
      "solovastru processed successfully\n",
      "berezanka processed successfully\n",
      "dolzhanskaya processed successfully\n",
      "zavetnoye processed successfully\n",
      "balykshi processed successfully\n",
      "shubarshi processed successfully\n",
      "kazalinsk processed successfully\n",
      "zhezkazgan processed successfully\n",
      "balkhash processed successfully\n",
      "urdzhar processed successfully\n",
      "altay processed successfully\n",
      "erzin processed successfully\n",
      "hovd processed successfully\n",
      "darhan processed successfully\n",
      "baruun-urt processed successfully\n",
      "wulanhaote processed successfully\n",
      "suihua processed successfully\n",
      "bikin processed successfully\n",
      "svetlaya processed successfully\n",
      "kurilsk processed successfully\n",
      "vostok processed successfully\n",
      "egvekinot processed successfully\n",
      "kitimat processed successfully\n",
      "prince george processed successfully\n",
      "whitecourt processed successfully\n",
      "grand centre processed successfully\n",
      "nipawin processed successfully\n",
      "thompson processed successfully\n",
      "sioux lookout processed successfully\n",
      "attawapiskat processed successfully\n",
      "moose factory processed successfully\n",
      "dolbeau processed successfully\n",
      "havre-saint-pierre processed successfully\n",
      "saint-augustin processed successfully\n"
     ]
    },
    {
     "name": "stdout",
     "output_type": "stream",
     "text": [
      "saint anthony processed successfully\n",
      "nanortalik processed successfully\n",
      "tasiilaq processed successfully\n",
      "grindavik processed successfully\n",
      "vestmannaeyjar processed successfully\n",
      "dingle processed successfully\n",
      "cootehill processed successfully\n",
      "york processed successfully\n",
      "leeuwarden processed successfully\n",
      "bad doberan processed successfully\n",
      "starogard gdanski processed successfully\n",
      "eisiskes processed successfully\n",
      "horki processed successfully\n",
      "lomintsevskiy processed successfully\n",
      "kovylkino processed successfully\n",
      "yelkhovka processed successfully\n",
      "krasnousolskiy processed successfully\n",
      "oktyabrskoye processed successfully\n",
      "krasnoarmeysk processed successfully\n",
      "kachiry processed successfully\n",
      "suzun processed successfully\n",
      "kommunar processed successfully\n",
      "aginskoye processed successfully\n",
      "kuytun processed successfully\n",
      "khuzhir processed successfully\n",
      "bagdarin processed successfully\n",
      "amazar processed successfully\n",
      "zeya processed successfully\n",
      "zlatoustovsk processed successfully\n",
      "mnogovershinnyy processed successfully\n",
      "ekhabi processed successfully\n",
      "sobolevo processed successfully\n",
      "milkovo processed successfully\n",
      "beringovskiy processed successfully\n",
      "nome processed successfully\n",
      "kenai processed successfully\n",
      "palmer processed successfully\n",
      "haines junction processed successfully\n",
      "whitehorse processed successfully\n",
      "norman wells processed successfully\n",
      "fort nelson processed successfully\n",
      "hay river processed successfully\n",
      "yellowknife processed successfully\n",
      "la ronge processed successfully\n",
      "iqaluit processed successfully\n",
      "maniitsoq processed successfully\n",
      "paamiut processed successfully\n",
      "qaqortoq processed successfully\n",
      "olafsvik processed successfully\n",
      "hofn processed successfully\n",
      "vagur processed successfully\n",
      "brae processed successfully\n",
      "sande processed successfully\n",
      "elverum processed successfully\n",
      "gavle processed successfully\n",
      "janakkala processed successfully\n",
      "pitkyaranta processed successfully\n",
      "lipin bor processed successfully\n",
      "ileza processed successfully\n",
      "vizinga processed successfully\n",
      "nyrob processed successfully\n",
      "yugorsk processed successfully\n",
      "gornopravdinsk processed successfully\n",
      "megion processed successfully\n",
      "kargasok processed successfully\n",
      "teya processed successfully\n",
      "baykit processed successfully\n",
      "vanavara processed successfully\n",
      "yerbogachen processed successfully\n",
      "lensk processed successfully\n",
      "verkhnevilyuysk processed successfully\n",
      "berdigestyakh processed successfully\n",
      "ust-maya processed successfully\n",
      "solnechnyy processed successfully\n",
      "kadykchan processed successfully\n",
      "talaya processed successfully\n",
      "evensk processed successfully\n",
      "tilichiki processed successfully\n",
      "kamenskoye processed successfully\n",
      "mys shmidta processed successfully\n",
      "lavrentiya processed successfully\n",
      "barrow processed successfully\n",
      "college processed successfully\n",
      "aklavik processed successfully\n",
      "clyde river processed successfully\n",
      "pangnirtung processed successfully\n",
      "upernavik processed successfully\n",
      "qasigiannguit processed successfully\n",
      "ilulissat processed successfully\n",
      "bolungarvik processed successfully\n",
      "skagastrond processed successfully\n",
      "husavik processed successfully\n",
      "klaksvik processed successfully\n",
      "bud processed successfully\n",
      "sorland processed successfully\n",
      "setermoen processed successfully\n",
      "karasjok processed successfully\n",
      "verkhnetulomskiy processed successfully\n",
      "ostrovnoy processed successfully\n",
      "kamenka processed successfully\n",
      "naryan-mar processed successfully\n",
      "usinsk processed successfully\n",
      "komsomolskiy processed successfully\n",
      "yar-sale processed successfully\n",
      "novyy urengoy processed successfully\n",
      "karaul processed successfully\n",
      "snezhnogorsk processed successfully\n",
      "tura processed successfully\n",
      "khatanga processed successfully\n",
      "aykhal processed successfully\n",
      "udachnyy processed successfully\n",
      "zhigansk processed successfully\n",
      "batagay-alyta processed successfully\n",
      "verkhoyansk processed successfully\n",
      "deputatskiy processed successfully\n",
      "belaya gora processed successfully\n",
      "srednekolymsk processed successfully\n",
      "cherskiy processed successfully\n",
      "bilibino processed successfully\n",
      "leningradskiy processed successfully\n",
      "tuktoyaktuk processed successfully\n",
      "qaanaaq processed successfully\n",
      "narsaq processed successfully\n",
      "illoqqortoormiut processed successfully\n",
      "barentsburg processed successfully\n",
      "longyearbyen processed successfully\n",
      "havoysund processed successfully\n",
      "batsfjord processed successfully\n",
      "tumannyy processed successfully\n",
      "belushya guba processed successfully\n",
      "amderma processed successfully\n",
      "dikson processed successfully\n",
      "talnakh processed successfully\n",
      "saskylakh processed successfully\n",
      "tiksi processed successfully\n",
      "nizhneyansk processed successfully\n",
      "chokurdakh processed successfully\n",
      "pevek processed successfully\n",
      "berlevag processed successfully\n",
      "vardo processed successfully\n"
     ]
    }
   ],
   "source": [
    "temp = []\n",
    "humidity = []\n",
    "cloudiness = []\n",
    "wind_speed = []\n",
    "\n",
    "for i in range(len(random_cities_df['city_name'])):\n",
    "    citylog = random_cities_df.iloc[i, 0]\n",
    "    lat = random_cities_df.iloc[i, 2]\n",
    "    lon = random_cities_df.iloc[i, 3]\n",
    "    query = f'{base_url}{lat}&lon={lon}&dt={now}&appid={api_key}&units=imperial'\n",
    "    \n",
    "    try: \n",
    "        response = requests.get(query)\n",
    "        response_json = response.json()\n",
    "        temp.append(response_json['current']['temp'])\n",
    "        humidity.append(response_json['current']['humidity'])\n",
    "        cloudiness.append(response_json['current']['clouds'])\n",
    "        wind_speed.append(response_json['current']['wind_speed'])\n",
    "        print(f'{i} - {citylog} processed successfully')\n",
    "        \n",
    "        # wait a second\n",
    "        time.sleep(1)\n",
    "    \n",
    "    except:\n",
    "        print(f'{i} - {citylog} failed')\n",
    "        pass\n",
    "    \n",
    "    "
   ]
  },
  {
   "cell_type": "code",
   "execution_count": 35,
   "id": "09a75969",
   "metadata": {},
   "outputs": [
    {
     "data": {
      "text/plain": [
       "649"
      ]
     },
     "execution_count": 35,
     "metadata": {},
     "output_type": "execute_result"
    }
   ],
   "source": [
    "len(temp)"
   ]
  },
  {
   "cell_type": "code",
   "execution_count": 37,
   "id": "b01a545d",
   "metadata": {},
   "outputs": [
    {
     "data": {
      "text/html": [
       "<div>\n",
       "<style scoped>\n",
       "    .dataframe tbody tr th:only-of-type {\n",
       "        vertical-align: middle;\n",
       "    }\n",
       "\n",
       "    .dataframe tbody tr th {\n",
       "        vertical-align: top;\n",
       "    }\n",
       "\n",
       "    .dataframe thead th {\n",
       "        text-align: right;\n",
       "    }\n",
       "</style>\n",
       "<table border=\"1\" class=\"dataframe\">\n",
       "  <thead>\n",
       "    <tr style=\"text-align: right;\">\n",
       "      <th></th>\n",
       "      <th>latitude</th>\n",
       "      <th>longitude</th>\n",
       "      <th>temperature</th>\n",
       "      <th>humidity</th>\n",
       "      <th>cloudiness</th>\n",
       "      <th>wind_speed</th>\n",
       "    </tr>\n",
       "  </thead>\n",
       "  <tbody>\n",
       "    <tr>\n",
       "      <th>1</th>\n",
       "      <td>-90.0</td>\n",
       "      <td>-180.0</td>\n",
       "      <td>-51.21</td>\n",
       "      <td>82</td>\n",
       "      <td>11</td>\n",
       "      <td>11.81</td>\n",
       "    </tr>\n",
       "    <tr>\n",
       "      <th>3</th>\n",
       "      <td>-90.0</td>\n",
       "      <td>-167.2</td>\n",
       "      <td>-51.21</td>\n",
       "      <td>82</td>\n",
       "      <td>11</td>\n",
       "      <td>11.79</td>\n",
       "    </tr>\n",
       "    <tr>\n",
       "      <th>8</th>\n",
       "      <td>-90.0</td>\n",
       "      <td>-135.2</td>\n",
       "      <td>-51.21</td>\n",
       "      <td>82</td>\n",
       "      <td>11</td>\n",
       "      <td>11.79</td>\n",
       "    </tr>\n",
       "    <tr>\n",
       "      <th>10</th>\n",
       "      <td>-90.0</td>\n",
       "      <td>-122.4</td>\n",
       "      <td>-51.21</td>\n",
       "      <td>82</td>\n",
       "      <td>11</td>\n",
       "      <td>11.81</td>\n",
       "    </tr>\n",
       "    <tr>\n",
       "      <th>15</th>\n",
       "      <td>-90.0</td>\n",
       "      <td>-90.4</td>\n",
       "      <td>-51.21</td>\n",
       "      <td>82</td>\n",
       "      <td>11</td>\n",
       "      <td>11.79</td>\n",
       "    </tr>\n",
       "  </tbody>\n",
       "</table>\n",
       "</div>"
      ],
      "text/plain": [
       "   latitude longitude  temperature  humidity  cloudiness  wind_speed\n",
       "1     -90.0    -180.0       -51.21        82          11       11.81\n",
       "3     -90.0    -167.2       -51.21        82          11       11.79\n",
       "8     -90.0    -135.2       -51.21        82          11       11.79\n",
       "10    -90.0    -122.4       -51.21        82          11       11.81\n",
       "15    -90.0     -90.4       -51.21        82          11       11.79"
      ]
     },
     "execution_count": 37,
     "metadata": {},
     "output_type": "execute_result"
    }
   ],
   "source": [
    "# Consolidate the data into a dataframe \n",
    "latitudes = random_cities_df['lat']\n",
    "longitudes = random_cities_df['lon']\n",
    "\n",
    "cities_weather = {\n",
    "    'latitude': latitudes,\n",
    "    'longitude': longitudes,\n",
    "    'temperature': temp,\n",
    "    'humidity': humidity,\n",
    "    'cloudiness': cloudiness,\n",
    "    'wind_speed': wind_speed\n",
    "}\n",
    "cities_weather_df = pd.DataFrame(cities_weather)\n",
    "cities_weather_df.head()"
   ]
  },
  {
   "cell_type": "code",
   "execution_count": 38,
   "id": "ec7f5c25",
   "metadata": {},
   "outputs": [],
   "source": [
    "# and save to csv file to cut dependency on api rate restrictions\n",
    "cities_weather_df.to_csv(\"cities_weather_df.csv\")"
   ]
  },
  {
   "cell_type": "markdown",
   "id": "d81ae73b",
   "metadata": {},
   "source": [
    "## Scatter Plots:"
   ]
  },
  {
   "cell_type": "markdown",
   "id": "8c051a2d",
   "metadata": {},
   "source": [
    "### Scatter plot for Temperature (F) vs. Latitude"
   ]
  },
  {
   "cell_type": "code",
   "execution_count": 48,
   "id": "5c195162",
   "metadata": {},
   "outputs": [
    {
     "ename": "FileNotFoundError",
     "evalue": "[Errno 2] No such file or directory: '/Images/latitude_temperature.png'",
     "output_type": "error",
     "traceback": [
      "\u001b[0;31m---------------------------------------------------------------------------\u001b[0m",
      "\u001b[0;31mFileNotFoundError\u001b[0m                         Traceback (most recent call last)",
      "\u001b[0;32m<ipython-input-48-355a97bfdedc>\u001b[0m in \u001b[0;36m<module>\u001b[0;34m\u001b[0m\n\u001b[1;32m      5\u001b[0m \u001b[0mplt\u001b[0m\u001b[0;34m.\u001b[0m\u001b[0mylabel\u001b[0m\u001b[0;34m(\u001b[0m\u001b[0;34m\"Temperature (F)\"\u001b[0m\u001b[0;34m)\u001b[0m\u001b[0;34m\u001b[0m\u001b[0;34m\u001b[0m\u001b[0m\n\u001b[1;32m      6\u001b[0m \u001b[0;34m\u001b[0m\u001b[0m\n\u001b[0;32m----> 7\u001b[0;31m \u001b[0mplt\u001b[0m\u001b[0;34m.\u001b[0m\u001b[0msavefig\u001b[0m\u001b[0;34m(\u001b[0m\u001b[0;34m\"/Images/latitude_temperature.png\"\u001b[0m\u001b[0;34m)\u001b[0m\u001b[0;34m\u001b[0m\u001b[0;34m\u001b[0m\u001b[0m\n\u001b[0m\u001b[1;32m      8\u001b[0m \u001b[0mplt\u001b[0m\u001b[0;34m.\u001b[0m\u001b[0mshow\u001b[0m\u001b[0;34m(\u001b[0m\u001b[0;34m)\u001b[0m\u001b[0;34m\u001b[0m\u001b[0;34m\u001b[0m\u001b[0m\n",
      "\u001b[0;32m~/opt/anaconda3/envs/PythonData38/lib/python3.8/site-packages/matplotlib/pyplot.py\u001b[0m in \u001b[0;36msavefig\u001b[0;34m(*args, **kwargs)\u001b[0m\n\u001b[1;32m    857\u001b[0m \u001b[0;32mdef\u001b[0m \u001b[0msavefig\u001b[0m\u001b[0;34m(\u001b[0m\u001b[0;34m*\u001b[0m\u001b[0margs\u001b[0m\u001b[0;34m,\u001b[0m \u001b[0;34m**\u001b[0m\u001b[0mkwargs\u001b[0m\u001b[0;34m)\u001b[0m\u001b[0;34m:\u001b[0m\u001b[0;34m\u001b[0m\u001b[0;34m\u001b[0m\u001b[0m\n\u001b[1;32m    858\u001b[0m     \u001b[0mfig\u001b[0m \u001b[0;34m=\u001b[0m \u001b[0mgcf\u001b[0m\u001b[0;34m(\u001b[0m\u001b[0;34m)\u001b[0m\u001b[0;34m\u001b[0m\u001b[0;34m\u001b[0m\u001b[0m\n\u001b[0;32m--> 859\u001b[0;31m     \u001b[0mres\u001b[0m \u001b[0;34m=\u001b[0m \u001b[0mfig\u001b[0m\u001b[0;34m.\u001b[0m\u001b[0msavefig\u001b[0m\u001b[0;34m(\u001b[0m\u001b[0;34m*\u001b[0m\u001b[0margs\u001b[0m\u001b[0;34m,\u001b[0m \u001b[0;34m**\u001b[0m\u001b[0mkwargs\u001b[0m\u001b[0;34m)\u001b[0m\u001b[0;34m\u001b[0m\u001b[0;34m\u001b[0m\u001b[0m\n\u001b[0m\u001b[1;32m    860\u001b[0m     \u001b[0mfig\u001b[0m\u001b[0;34m.\u001b[0m\u001b[0mcanvas\u001b[0m\u001b[0;34m.\u001b[0m\u001b[0mdraw_idle\u001b[0m\u001b[0;34m(\u001b[0m\u001b[0;34m)\u001b[0m   \u001b[0;31m# need this if 'transparent=True' to reset colors\u001b[0m\u001b[0;34m\u001b[0m\u001b[0;34m\u001b[0m\u001b[0m\n\u001b[1;32m    861\u001b[0m     \u001b[0;32mreturn\u001b[0m \u001b[0mres\u001b[0m\u001b[0;34m\u001b[0m\u001b[0;34m\u001b[0m\u001b[0m\n",
      "\u001b[0;32m~/opt/anaconda3/envs/PythonData38/lib/python3.8/site-packages/matplotlib/figure.py\u001b[0m in \u001b[0;36msavefig\u001b[0;34m(self, fname, transparent, **kwargs)\u001b[0m\n\u001b[1;32m   2309\u001b[0m                 \u001b[0mpatch\u001b[0m\u001b[0;34m.\u001b[0m\u001b[0mset_edgecolor\u001b[0m\u001b[0;34m(\u001b[0m\u001b[0;34m'none'\u001b[0m\u001b[0;34m)\u001b[0m\u001b[0;34m\u001b[0m\u001b[0;34m\u001b[0m\u001b[0m\n\u001b[1;32m   2310\u001b[0m \u001b[0;34m\u001b[0m\u001b[0m\n\u001b[0;32m-> 2311\u001b[0;31m         \u001b[0mself\u001b[0m\u001b[0;34m.\u001b[0m\u001b[0mcanvas\u001b[0m\u001b[0;34m.\u001b[0m\u001b[0mprint_figure\u001b[0m\u001b[0;34m(\u001b[0m\u001b[0mfname\u001b[0m\u001b[0;34m,\u001b[0m \u001b[0;34m**\u001b[0m\u001b[0mkwargs\u001b[0m\u001b[0;34m)\u001b[0m\u001b[0;34m\u001b[0m\u001b[0;34m\u001b[0m\u001b[0m\n\u001b[0m\u001b[1;32m   2312\u001b[0m \u001b[0;34m\u001b[0m\u001b[0m\n\u001b[1;32m   2313\u001b[0m         \u001b[0;32mif\u001b[0m \u001b[0mtransparent\u001b[0m\u001b[0;34m:\u001b[0m\u001b[0;34m\u001b[0m\u001b[0;34m\u001b[0m\u001b[0m\n",
      "\u001b[0;32m~/opt/anaconda3/envs/PythonData38/lib/python3.8/site-packages/matplotlib/backend_bases.py\u001b[0m in \u001b[0;36mprint_figure\u001b[0;34m(self, filename, dpi, facecolor, edgecolor, orientation, format, bbox_inches, pad_inches, bbox_extra_artists, backend, **kwargs)\u001b[0m\n\u001b[1;32m   2208\u001b[0m \u001b[0;34m\u001b[0m\u001b[0m\n\u001b[1;32m   2209\u001b[0m             \u001b[0;32mtry\u001b[0m\u001b[0;34m:\u001b[0m\u001b[0;34m\u001b[0m\u001b[0;34m\u001b[0m\u001b[0m\n\u001b[0;32m-> 2210\u001b[0;31m                 result = print_method(\n\u001b[0m\u001b[1;32m   2211\u001b[0m                     \u001b[0mfilename\u001b[0m\u001b[0;34m,\u001b[0m\u001b[0;34m\u001b[0m\u001b[0;34m\u001b[0m\u001b[0m\n\u001b[1;32m   2212\u001b[0m                     \u001b[0mdpi\u001b[0m\u001b[0;34m=\u001b[0m\u001b[0mdpi\u001b[0m\u001b[0;34m,\u001b[0m\u001b[0;34m\u001b[0m\u001b[0;34m\u001b[0m\u001b[0m\n",
      "\u001b[0;32m~/opt/anaconda3/envs/PythonData38/lib/python3.8/site-packages/matplotlib/backend_bases.py\u001b[0m in \u001b[0;36mwrapper\u001b[0;34m(*args, **kwargs)\u001b[0m\n\u001b[1;32m   1637\u001b[0m             \u001b[0mkwargs\u001b[0m\u001b[0;34m.\u001b[0m\u001b[0mpop\u001b[0m\u001b[0;34m(\u001b[0m\u001b[0marg\u001b[0m\u001b[0;34m)\u001b[0m\u001b[0;34m\u001b[0m\u001b[0;34m\u001b[0m\u001b[0m\n\u001b[1;32m   1638\u001b[0m \u001b[0;34m\u001b[0m\u001b[0m\n\u001b[0;32m-> 1639\u001b[0;31m         \u001b[0;32mreturn\u001b[0m \u001b[0mfunc\u001b[0m\u001b[0;34m(\u001b[0m\u001b[0;34m*\u001b[0m\u001b[0margs\u001b[0m\u001b[0;34m,\u001b[0m \u001b[0;34m**\u001b[0m\u001b[0mkwargs\u001b[0m\u001b[0;34m)\u001b[0m\u001b[0;34m\u001b[0m\u001b[0;34m\u001b[0m\u001b[0m\n\u001b[0m\u001b[1;32m   1640\u001b[0m \u001b[0;34m\u001b[0m\u001b[0m\n\u001b[1;32m   1641\u001b[0m     \u001b[0;32mreturn\u001b[0m \u001b[0mwrapper\u001b[0m\u001b[0;34m\u001b[0m\u001b[0;34m\u001b[0m\u001b[0m\n",
      "\u001b[0;32m~/opt/anaconda3/envs/PythonData38/lib/python3.8/site-packages/matplotlib/backends/backend_agg.py\u001b[0m in \u001b[0;36mprint_png\u001b[0;34m(self, filename_or_obj, metadata, pil_kwargs, *args)\u001b[0m\n\u001b[1;32m    508\u001b[0m         \"\"\"\n\u001b[1;32m    509\u001b[0m         \u001b[0mFigureCanvasAgg\u001b[0m\u001b[0;34m.\u001b[0m\u001b[0mdraw\u001b[0m\u001b[0;34m(\u001b[0m\u001b[0mself\u001b[0m\u001b[0;34m)\u001b[0m\u001b[0;34m\u001b[0m\u001b[0;34m\u001b[0m\u001b[0m\n\u001b[0;32m--> 510\u001b[0;31m         mpl.image.imsave(\n\u001b[0m\u001b[1;32m    511\u001b[0m             \u001b[0mfilename_or_obj\u001b[0m\u001b[0;34m,\u001b[0m \u001b[0mself\u001b[0m\u001b[0;34m.\u001b[0m\u001b[0mbuffer_rgba\u001b[0m\u001b[0;34m(\u001b[0m\u001b[0;34m)\u001b[0m\u001b[0;34m,\u001b[0m \u001b[0mformat\u001b[0m\u001b[0;34m=\u001b[0m\u001b[0;34m\"png\"\u001b[0m\u001b[0;34m,\u001b[0m \u001b[0morigin\u001b[0m\u001b[0;34m=\u001b[0m\u001b[0;34m\"upper\"\u001b[0m\u001b[0;34m,\u001b[0m\u001b[0;34m\u001b[0m\u001b[0;34m\u001b[0m\u001b[0m\n\u001b[1;32m    512\u001b[0m             dpi=self.figure.dpi, metadata=metadata, pil_kwargs=pil_kwargs)\n",
      "\u001b[0;32m~/opt/anaconda3/envs/PythonData38/lib/python3.8/site-packages/matplotlib/image.py\u001b[0m in \u001b[0;36mimsave\u001b[0;34m(fname, arr, vmin, vmax, cmap, format, origin, dpi, metadata, pil_kwargs)\u001b[0m\n\u001b[1;32m   1609\u001b[0m         \u001b[0mpil_kwargs\u001b[0m\u001b[0;34m.\u001b[0m\u001b[0msetdefault\u001b[0m\u001b[0;34m(\u001b[0m\u001b[0;34m\"format\"\u001b[0m\u001b[0;34m,\u001b[0m \u001b[0mformat\u001b[0m\u001b[0;34m)\u001b[0m\u001b[0;34m\u001b[0m\u001b[0;34m\u001b[0m\u001b[0m\n\u001b[1;32m   1610\u001b[0m         \u001b[0mpil_kwargs\u001b[0m\u001b[0;34m.\u001b[0m\u001b[0msetdefault\u001b[0m\u001b[0;34m(\u001b[0m\u001b[0;34m\"dpi\"\u001b[0m\u001b[0;34m,\u001b[0m \u001b[0;34m(\u001b[0m\u001b[0mdpi\u001b[0m\u001b[0;34m,\u001b[0m \u001b[0mdpi\u001b[0m\u001b[0;34m)\u001b[0m\u001b[0;34m)\u001b[0m\u001b[0;34m\u001b[0m\u001b[0;34m\u001b[0m\u001b[0m\n\u001b[0;32m-> 1611\u001b[0;31m         \u001b[0mimage\u001b[0m\u001b[0;34m.\u001b[0m\u001b[0msave\u001b[0m\u001b[0;34m(\u001b[0m\u001b[0mfname\u001b[0m\u001b[0;34m,\u001b[0m \u001b[0;34m**\u001b[0m\u001b[0mpil_kwargs\u001b[0m\u001b[0;34m)\u001b[0m\u001b[0;34m\u001b[0m\u001b[0;34m\u001b[0m\u001b[0m\n\u001b[0m\u001b[1;32m   1612\u001b[0m \u001b[0;34m\u001b[0m\u001b[0m\n\u001b[1;32m   1613\u001b[0m \u001b[0;34m\u001b[0m\u001b[0m\n",
      "\u001b[0;32m~/opt/anaconda3/envs/PythonData38/lib/python3.8/site-packages/PIL/Image.py\u001b[0m in \u001b[0;36msave\u001b[0;34m(self, fp, format, **params)\u001b[0m\n\u001b[1;32m   2167\u001b[0m                 \u001b[0mfp\u001b[0m \u001b[0;34m=\u001b[0m \u001b[0mbuiltins\u001b[0m\u001b[0;34m.\u001b[0m\u001b[0mopen\u001b[0m\u001b[0;34m(\u001b[0m\u001b[0mfilename\u001b[0m\u001b[0;34m,\u001b[0m \u001b[0;34m\"r+b\"\u001b[0m\u001b[0;34m)\u001b[0m\u001b[0;34m\u001b[0m\u001b[0;34m\u001b[0m\u001b[0m\n\u001b[1;32m   2168\u001b[0m             \u001b[0;32melse\u001b[0m\u001b[0;34m:\u001b[0m\u001b[0;34m\u001b[0m\u001b[0;34m\u001b[0m\u001b[0m\n\u001b[0;32m-> 2169\u001b[0;31m                 \u001b[0mfp\u001b[0m \u001b[0;34m=\u001b[0m \u001b[0mbuiltins\u001b[0m\u001b[0;34m.\u001b[0m\u001b[0mopen\u001b[0m\u001b[0;34m(\u001b[0m\u001b[0mfilename\u001b[0m\u001b[0;34m,\u001b[0m \u001b[0;34m\"w+b\"\u001b[0m\u001b[0;34m)\u001b[0m\u001b[0;34m\u001b[0m\u001b[0;34m\u001b[0m\u001b[0m\n\u001b[0m\u001b[1;32m   2170\u001b[0m \u001b[0;34m\u001b[0m\u001b[0m\n\u001b[1;32m   2171\u001b[0m         \u001b[0;32mtry\u001b[0m\u001b[0;34m:\u001b[0m\u001b[0;34m\u001b[0m\u001b[0;34m\u001b[0m\u001b[0m\n",
      "\u001b[0;31mFileNotFoundError\u001b[0m: [Errno 2] No such file or directory: '/Images/latitude_temperature.png'"
     ]
    },
    {
     "data": {
      "image/png": "[encoded data removed]",
      "text/plain": [
       "<Figure size 432x288 with 1 Axes>"
      ]
     },
     "metadata": {
      "needs_background": "light"
     },
     "output_type": "display_data"
    }
   ],
   "source": [
    "\n",
    "plt.scatter(latitudes, temp, marker=\"o\", facecolors=\"orange\", edgecolors='black')\n",
    "\n",
    "plt.title(\"Temperature (F) vs. Latitude\")\n",
    "plt.xlabel(\"Latitude\")\n",
    "plt.ylabel(\"Temperature (F)\")\n",
    "\n",
    "plt.savefig(\"/Images/latitude_temperature.png\")\n",
    "plt.show()"
   ]
  },
  {
   "cell_type": "code",
   "execution_count": null,
   "id": "feb5cb6f",
   "metadata": {},
   "outputs": [],
   "source": [
    "## Save a CSV of all retrieved data and a PNG image for each scatter plot"
   ]
  },
  {
   "cell_type": "code",
   "execution_count": null,
   "id": "70d82b27",
   "metadata": {},
   "outputs": [],
   "source": [
    "## Explanation"
   ]
  },
  {
   "cell_type": "code",
   "execution_count": null,
   "id": "6bfef35f",
   "metadata": {},
   "outputs": [],
   "source": [
    "# scatter plot for Humidity (%) vs. Latitude\n"
   ]
  },
  {
   "cell_type": "code",
   "execution_count": null,
   "id": "af215045",
   "metadata": {},
   "outputs": [],
   "source": [
    "## Save a CSV of all retrieved data and a PNG image for each scatter plot"
   ]
  },
  {
   "cell_type": "code",
   "execution_count": null,
   "id": "693602f9",
   "metadata": {},
   "outputs": [],
   "source": [
    "## Explanation"
   ]
  },
  {
   "cell_type": "code",
   "execution_count": null,
   "id": "7262a781",
   "metadata": {},
   "outputs": [],
   "source": [
    "# scatter plot for Cloudiness (%) vs. Latitude\n"
   ]
  },
  {
   "cell_type": "code",
   "execution_count": null,
   "id": "61e4239c",
   "metadata": {},
   "outputs": [],
   "source": [
    "## Save a CSV of all retrieved data and a PNG image for each scatter plot"
   ]
  },
  {
   "cell_type": "code",
   "execution_count": null,
   "id": "a7320195",
   "metadata": {},
   "outputs": [],
   "source": [
    "## Explanation"
   ]
  },
  {
   "cell_type": "code",
   "execution_count": null,
   "id": "d8cf3c21",
   "metadata": {},
   "outputs": [],
   "source": [
    "# scatter plot for Wind Speed (mph) vs. Latitude\n"
   ]
  },
  {
   "cell_type": "code",
   "execution_count": null,
   "id": "d04781a3",
   "metadata": {},
   "outputs": [],
   "source": [
    "## Save a CSV of all retrieved data and a PNG image for each scatter plot"
   ]
  },
  {
   "cell_type": "code",
   "execution_count": null,
   "id": "951fbbe8",
   "metadata": {},
   "outputs": [],
   "source": [
    "## Explanation"
   ]
  },
  {
   "cell_type": "markdown",
   "id": "4b861821",
   "metadata": {},
   "source": [
    "## Linear Regressions:"
   ]
  },
  {
   "cell_type": "code",
   "execution_count": null,
   "id": "04c8c99f",
   "metadata": {},
   "outputs": [],
   "source": [
    "# Northern Hemisphere - Temperature (F) vs. Latitude\n",
    "# Southern Hemisphere - Temperature (F) vs. Latitude"
   ]
  },
  {
   "cell_type": "code",
   "execution_count": null,
   "id": "b59fc2cd",
   "metadata": {},
   "outputs": [],
   "source": [
    "## Save a CSV of all retrieved data and a PNG image for each scatter plot"
   ]
  },
  {
   "cell_type": "code",
   "execution_count": null,
   "id": "b3070080",
   "metadata": {},
   "outputs": [],
   "source": [
    "## Analysis"
   ]
  },
  {
   "cell_type": "code",
   "execution_count": null,
   "id": "6b852a24",
   "metadata": {},
   "outputs": [],
   "source": [
    "# Northern Hemisphere - Humidity (%) vs. Latitude\n",
    "# Southern Hemisphere - Humidity (%) vs. Latitude"
   ]
  },
  {
   "cell_type": "code",
   "execution_count": null,
   "id": "4aee327c",
   "metadata": {},
   "outputs": [],
   "source": [
    "## Save a CSV of all retrieved data and a PNG image for each scatter plot"
   ]
  },
  {
   "cell_type": "code",
   "execution_count": null,
   "id": "db71b0c9",
   "metadata": {},
   "outputs": [],
   "source": [
    "## Analysis"
   ]
  },
  {
   "cell_type": "code",
   "execution_count": null,
   "id": "7dbfe8a2",
   "metadata": {},
   "outputs": [],
   "source": [
    "# Northern Hemisphere - Cloudiness (%) vs. Latitude\n",
    "# Southern Hemisphere - Cloudiness (%) vs. Latitude"
   ]
  },
  {
   "cell_type": "code",
   "execution_count": null,
   "id": "521b5a64",
   "metadata": {},
   "outputs": [],
   "source": [
    "## Save a CSV of all retrieved data and a PNG image for each scatter plot"
   ]
  },
  {
   "cell_type": "code",
   "execution_count": null,
   "id": "8642094a",
   "metadata": {},
   "outputs": [],
   "source": [
    "## Analysis"
   ]
  },
  {
   "cell_type": "code",
   "execution_count": null,
   "id": "3a127079",
   "metadata": {},
   "outputs": [],
   "source": [
    "# Northern Hemisphere - Wind Speed (mph) vs. Latitude\n",
    "# Southern Hemisphere - Wind Speed (mph) vs. Latitude"
   ]
  },
  {
   "cell_type": "code",
   "execution_count": null,
   "id": "477b9634",
   "metadata": {},
   "outputs": [],
   "source": [
    "## Save a CSV of all retrieved data and a PNG image for each scatter plot"
   ]
  },
  {
   "cell_type": "code",
   "execution_count": null,
   "id": "f071c66b",
   "metadata": {},
   "outputs": [],
   "source": [
    "## Analysis"
   ]
  }
 ],
 "metadata": {
  "kernelspec": {
   "display_name": "Python 3",
   "language": "python",
   "name": "python3"
  },
  "language_info": {
   "codemirror_mode": {
    "name": "ipython",
    "version": 3
   },
   "file_extension": ".py",
   "mimetype": "text/x-python",
   "name": "python",
   "nbconvert_exporter": "python",
   "pygments_lexer": "ipython3",
   "version": "3.8.8"
  }
 },
 "nbformat": 4,
 "nbformat_minor": 5
}
