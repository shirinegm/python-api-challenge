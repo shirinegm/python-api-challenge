{
 "cells": [
  {
   "cell_type": "markdown",
   "id": "d5bab483",
   "metadata": {},
   "source": [
    "# Weather Analysis"
   ]
  },
  {
   "cell_type": "code",
   "execution_count": null,
   "id": "7f6ce04e",
   "metadata": {},
   "outputs": [],
   "source": [
    "# Dependencies\n",
    "import sys\n",
    "import numpy as np\n",
    "import pandas as pd\n",
    "from config import api_key\n",
    "import json\n",
    "import requests\n",
    "import time\n",
    "import matplotlib.pyplot as plt\n",
    "from scipy.stats import linregress"
   ]
  },
  {
   "cell_type": "code",
   "execution_count": null,
   "id": "7de7e064",
   "metadata": {},
   "outputs": [],
   "source": [
    "# install citypy\n",
    "sys.path.append('./lib/python3.8/site-packages')"
   ]
  },
  {
   "cell_type": "code",
   "execution_count": null,
   "id": "54591c47",
   "metadata": {},
   "outputs": [],
   "source": [
    "from citipy import citipy\n",
    "\n",
    "# test the citipy api\n",
    "city = citipy.nearest_city(36.81964369493615, 11.053632348043188)\n",
    "print(f\"City Name: {city.city_name}, Country Code: {city.country_code}\")"
   ]
  },
  {
   "cell_type": "markdown",
   "id": "524d4118",
   "metadata": {},
   "source": [
    "## API Calls:"
   ]
  },
  {
   "cell_type": "markdown",
   "id": "2ec0b289",
   "metadata": {},
   "source": [
    "### CitiPy"
   ]
  },
  {
   "cell_type": "code",
   "execution_count": null,
   "id": "c7697dda",
   "metadata": {},
   "outputs": [],
   "source": [
    "# Randomly select at least 500 unique (non-repeat) cities based on latitude and longitude.\n",
    "\n",
    "# Define min and max longitudes and latitudes. \n",
    "# Google says Latitudes range from -90 to 90, and longitudes range from -180 to 180\n",
    "minlat = -90\n",
    "maxlat = 90\n",
    "\n",
    "minlon = -180\n",
    "maxlon = 180\n",
    "i = 0\n",
    "\n",
    "random_cities = {i:[\"city_name\", \"country_code\", \"lat\", \"lon\"]}\n"
   ]
  },
  {
   "cell_type": "code",
   "execution_count": null,
   "id": "775079b1",
   "metadata": {},
   "outputs": [],
   "source": [
    "# loop through latitude and longitude range to pick nearest city and append to dictionary\n",
    "\n",
    "for lat in np.arange(minlat, maxlat, 7.2):\n",
    "    for lon in np.arange(minlon, maxlon, 6.4):\n",
    "        city = citipy.nearest_city(lat, lon)\n",
    "        cityName = city.city_name\n",
    "        countryCode = city.country_code\n",
    "        i = i + 1\n",
    "        random_cities[i] = [cityName, countryCode, lat, lon]\n",
    "        "
   ]
  },
  {
   "cell_type": "code",
   "execution_count": null,
   "id": "b435eef7",
   "metadata": {},
   "outputs": [],
   "source": [
    "# move into a Dataframe for some checks and duplicates clean up\n",
    "random_cities_df = pd.DataFrame.from_dict(random_cities, orient='index', columns=random_cities[0])\n",
    "\n",
    "## remove first row after making it a header\n",
    "random_cities_df = random_cities_df.iloc[1: , :]\n",
    "random_cities_df[\"city_name\"].count()"
   ]
  },
  {
   "cell_type": "code",
   "execution_count": null,
   "id": "5e5ee4d3",
   "metadata": {},
   "outputs": [],
   "source": [
    "## remove duplicates\n",
    "\n",
    "random_cities_df = random_cities_df.drop_duplicates(subset=['city_name'])\n",
    "random_cities_df[\"city_name\"].count()"
   ]
  },
  {
   "cell_type": "code",
   "execution_count": null,
   "id": "19ff9fb1",
   "metadata": {},
   "outputs": [],
   "source": [
    "random_cities_df.head()"
   ]
  },
  {
   "cell_type": "code",
   "execution_count": null,
   "id": "f177634e",
   "metadata": {},
   "outputs": [],
   "source": [
    "# check for any NaN\n",
    "random_cities_df = random_cities_df.dropna(how='any')"
   ]
  },
  {
   "cell_type": "code",
   "execution_count": null,
   "id": "b9b42d45",
   "metadata": {},
   "outputs": [],
   "source": [
    "random_cities_df[\"city_name\"].count()"
   ]
  },
  {
   "cell_type": "markdown",
   "id": "1522ff25",
   "metadata": {},
   "source": [
    "### OpenWeather API"
   ]
  },
  {
   "cell_type": "code",
   "execution_count": null,
   "id": "15559a77",
   "metadata": {},
   "outputs": [],
   "source": [
    "## Perform a weather check on each of the cities using a series of successive API calls.\n",
    "## This code was only used to do exploratory api calls\n",
    "\n",
    "## set up base url for historical api\n",
    "# url = f'http://api.openweathermap.org/data/2.5/onecall/timemachine?lat=-90.0&lon=-180.0&dt=1634445108&appid={api_key}'\n",
    "\n",
    "## Let's try out some calls\n",
    "# weather_response = requests.get(url)\n",
    "# weather_json = weather_response.json()\n",
    "# print(f\"The weather API responded with: {weather_json}.\")\n"
   ]
  },
  {
   "cell_type": "code",
   "execution_count": null,
   "id": "3925d641",
   "metadata": {},
   "outputs": [],
   "source": [
    "## try out some json traversal\n",
    "# print(f\"The Temperature for Vaini is : {weather_json['current']['temp']}\")"
   ]
  },
  {
   "cell_type": "code",
   "execution_count": null,
   "id": "2c500ca1",
   "metadata": {},
   "outputs": [],
   "source": [
    "base_url = 'http://api.openweathermap.org/data/2.5/onecall/timemachine?lat='\n"
   ]
  },
  {
   "cell_type": "code",
   "execution_count": null,
   "id": "343d7dad",
   "metadata": {},
   "outputs": [],
   "source": [
    "# loop through the latitude and longitude combinations and get a weather json for each\n",
    "# Include a print log of each city as it's being processed with the city number and city name\n",
    "# add 1 second wait time\n",
    "\n",
    "# get the time code now\n",
    "now = int (time.time())\n",
    "print(now)"
   ]
  },
  {
   "cell_type": "code",
   "execution_count": null,
   "id": "f1ccbf5d",
   "metadata": {},
   "outputs": [],
   "source": [
    "# !!! this code will take 15min to run - you can grab a cup of something\n",
    "\n",
    "temp = []\n",
    "humidity = []\n",
    "cloudiness = []\n",
    "wind_speed = []\n",
    "\n",
    "for i in range(len(random_cities_df['city_name'])):\n",
    "    citylog = random_cities_df.iloc[i, 0]\n",
    "    lat = random_cities_df.iloc[i, 2]\n",
    "    lon = random_cities_df.iloc[i, 3]\n",
    "    query = f'{base_url}{lat}&lon={lon}&dt={now}&appid={api_key}&units=imperial'\n",
    "    \n",
    "    try: \n",
    "        response = requests.get(query)\n",
    "        response_json = response.json()\n",
    "        temp.append(response_json['current']['temp'])\n",
    "        humidity.append(response_json['current']['humidity'])\n",
    "        cloudiness.append(response_json['current']['clouds'])\n",
    "        wind_speed.append(response_json['current']['wind_speed'])\n",
    "        print(f'{i} - {citylog} processed successfully')\n",
    "        \n",
    "        # wait a second\n",
    "        time.sleep(1)\n",
    "    \n",
    "    except:\n",
    "        print(f'{i} - {citylog} failed')\n",
    "        pass\n",
    "    \n",
    "    "
   ]
  },
  {
   "cell_type": "code",
   "execution_count": null,
   "id": "10a72560",
   "metadata": {},
   "outputs": [],
   "source": [
    "# Consolidate the data into a dataframe \n",
    "latitudes = random_cities_df['lat']\n",
    "longitudes = random_cities_df['lon']\n",
    "cities = random_cities_df['city_name']\n",
    "\n",
    "cities_weather = {\n",
    "    'city': cities,\n",
    "    'latitude': latitudes,\n",
    "    'longitude': longitudes,\n",
    "    'temperature': temp,\n",
    "    'humidity': humidity,\n",
    "    'cloudiness': cloudiness,\n",
    "    'wind_speed': wind_speed\n",
    "}\n",
    "cities_weather_df = pd.DataFrame(cities_weather)\n",
    "cities_weather_df.head()"
   ]
  },
  {
   "cell_type": "code",
   "execution_count": null,
   "id": "2b2646d0",
   "metadata": {},
   "outputs": [],
   "source": [
    "# and save to csv file to cut dependency on api rate restrictions\n",
    "cities_weather_df.to_csv(\"cities_weather_df.csv\")"
   ]
  },
  {
   "cell_type": "markdown",
   "id": "67ea46a8",
   "metadata": {},
   "source": [
    "## Scatter Plots:"
   ]
  },
  {
   "cell_type": "markdown",
   "id": "b9f874b6",
   "metadata": {},
   "source": [
    "### Scatter plot for Temperature (F) vs. Latitude"
   ]
  },
  {
   "cell_type": "code",
   "execution_count": null,
   "id": "e40e43f4",
   "metadata": {},
   "outputs": [],
   "source": [
    "\n",
    "plt.scatter(latitudes, temp, marker=\"o\", facecolors=\"red\", edgecolors='orange')\n",
    "\n",
    "plt.title(\"Temperature (F) vs. Latitude\")\n",
    "plt.xlabel(\"Latitude\")\n",
    "plt.ylabel(\"Temperature (F)\")\n",
    "\n",
    "plt.savefig(\"temperature_latitude.png\")\n",
    "plt.show()"
   ]
  },
  {
   "cell_type": "markdown",
   "id": "6c24299a",
   "metadata": {},
   "source": [
    "#### Explanation\n",
    "The scatter follows a clear concave shape centered around the 0 latitude, the equator. The closer to the equator the higher the temperature."
   ]
  },
  {
   "cell_type": "code",
   "execution_count": null,
   "id": "8031cde5",
   "metadata": {},
   "outputs": [],
   "source": [
    "# scatter plot for Humidity (%) vs. Latitude\n",
    "plt.scatter(latitudes, humidity, marker=\"^\", facecolors=\"blue\", edgecolors='black')\n",
    "\n",
    "plt.title(\"Humidity (%) vs. Latitude\")\n",
    "plt.xlabel(\"Latitude\")\n",
    "plt.ylabel(\"Humidity (%)\")\n",
    "\n",
    "plt.savefig(\"humidity_latitude.png\")\n",
    "plt.show()"
   ]
  },
  {
   "cell_type": "markdown",
   "id": "e046499f",
   "metadata": {},
   "source": [
    "#### Explanation\n",
    "Latitude does not seem to have an effect on the humidity level but rather the variance of humidity levels. On the equator, most humidity values are clustered on the higher range. 25 degrees above and below the equator tend to see very high to very low humidity levels."
   ]
  },
  {
   "cell_type": "code",
   "execution_count": null,
   "id": "212c4c0b",
   "metadata": {},
   "outputs": [],
   "source": [
    "# scatter plot for Cloudiness (%) vs. Latitude\n",
    "plt.scatter(latitudes, cloudiness, marker=\"2\", facecolors=\"gray\", edgecolors='black')\n",
    "\n",
    "plt.title(\"Cloudiness (%) vs. Latitude\")\n",
    "plt.xlabel(\"Latitude\")\n",
    "plt.ylabel(\"Cloudiness (%)\")\n",
    "\n",
    "plt.savefig(\"cloudiness_latitude.png\")\n",
    "plt.show()"
   ]
  },
  {
   "cell_type": "markdown",
   "id": "30c0b4bb",
   "metadata": {},
   "source": [
    "#### Explanation\n",
    "The markers are concentrated in 3 areas: On the equator, we mostly have high cloud coverage. On the 25degrees line above and below the equator have mostly low cloudiness"
   ]
  },
  {
   "cell_type": "code",
   "execution_count": null,
   "id": "4c86c949",
   "metadata": {},
   "outputs": [],
   "source": [
    "# scatter plot for Wind Speed (mph) vs. Latitude\n",
    "plt.scatter(latitudes, wind_speed, marker=4, facecolors=\"black\", edgecolors='black')\n",
    "\n",
    "plt.title(\"Wind Speed (mph) vs. Latitude\")\n",
    "plt.xlabel(\"Latitude\")\n",
    "plt.ylabel(\"Wind Speed (mph)\")\n",
    "\n",
    "plt.savefig(\"windspeed_latitude.png\")\n",
    "plt.show()"
   ]
  },
  {
   "cell_type": "markdown",
   "id": "fbc4b933",
   "metadata": {},
   "source": [
    "#### Explanation\n",
    "The Wind speed data is more clustered around low windspeed in the northern hemisphere with outliers around the 50 degree line above and below the equator showing high wind speeds. "
   ]
  },
  {
   "cell_type": "markdown",
   "id": "b7f81bda",
   "metadata": {},
   "source": [
    "## Linear Regressions:"
   ]
  },
  {
   "cell_type": "code",
   "execution_count": null,
   "id": "cd21f4f8",
   "metadata": {},
   "outputs": [],
   "source": [
    "# Split the world in two\n",
    "northern_cities_df = cities_weather_df.loc[cities_weather_df['latitude'] >= 0, :]\n",
    "southern_cities_df = cities_weather_df.loc[cities_weather_df['latitude'] <= 0, :]"
   ]
  },
  {
   "cell_type": "code",
   "execution_count": null,
   "id": "225ac1b8",
   "metadata": {},
   "outputs": [],
   "source": [
    "# Northern Hemisphere - Temperature (F) vs. Latitude\n",
    "x_values = northern_cities_df['latitude']\n",
    "y_values = northern_cities_df['temperature']\n",
    "(slope, intercept, rvalue, pvalue, stderr) = linregress(x_values.astype(float), y_values)\n",
    "regress_values = x_values * slope + intercept\n",
    "line_eq = \"y = \" + str(round(slope,2)) + \"x + \" + str(round(intercept,2))\n",
    "plt.scatter(x_values,y_values, facecolors='orange')\n",
    "plt.plot(x_values,regress_values,\"r-\")\n",
    "plt.annotate(line_eq,(6,10),fontsize=15,color=\"red\")\n",
    "plt.xlabel('Latitude, Northern Hemisphere')\n",
    "plt.ylabel('Temperature (F)')\n",
    "print(f\"The r-squared is: {rvalue**2}\")\n",
    "\n",
    "plt.savefig(\"temperature_latitude_north.png\")\n",
    "plt.show()"
   ]
  },
  {
   "cell_type": "code",
   "execution_count": null,
   "id": "df66a2c8",
   "metadata": {},
   "outputs": [],
   "source": [
    "# Southern Hemisphere - Temperature (F) vs. Latitude\n",
    "x_values = southern_cities_df['latitude']\n",
    "y_values = southern_cities_df['temperature']\n",
    "(slope, intercept, rvalue, pvalue, stderr) = linregress(x_values.astype(float), y_values)\n",
    "regress_values = x_values * slope + intercept\n",
    "line_eq = \"y = \" + str(round(slope,2)) + \"x + \" + str(round(intercept,2))\n",
    "plt.scatter(x_values,y_values,facecolors='orange')\n",
    "plt.plot(x_values,regress_values,\"r-\")\n",
    "plt.annotate(line_eq,(-60,-20),fontsize=15,color=\"red\")\n",
    "plt.xlabel('Latitude, Southern Hemisphere')\n",
    "plt.ylabel('Temperature (F)')\n",
    "print(f\"The r-squared is: {rvalue**2}\")\n",
    "plt.savefig(\"temperature_latitude_south.png\")\n",
    "plt.show()\n"
   ]
  },
  {
   "cell_type": "markdown",
   "id": "cce8fbfe",
   "metadata": {},
   "source": [
    "#### Analysis\n",
    "Both linear regressions prove a strong correlation between latitude and temperature with high r-squared values."
   ]
  },
  {
   "cell_type": "code",
   "execution_count": null,
   "id": "91b67edf",
   "metadata": {},
   "outputs": [],
   "source": [
    "# Northern Hemisphere - Humidity (%) vs. Latitude\n",
    "x_values = northern_cities_df['latitude']\n",
    "y_values = northern_cities_df['humidity']\n",
    "(slope, intercept, rvalue, pvalue, stderr) = linregress(x_values.astype(float), y_values)\n",
    "regress_values = x_values * slope + intercept\n",
    "line_eq = \"y = \" + str(round(slope,2)) + \"x + \" + str(round(intercept,2))\n",
    "plt.scatter(x_values,y_values, facecolors='blue')\n",
    "plt.plot(x_values,regress_values,\"r-\")\n",
    "plt.annotate(line_eq,(50,20),fontsize=15,color=\"red\")\n",
    "plt.xlabel('Latitude, Northern Hemisphere')\n",
    "plt.ylabel('Humidity (%)')\n",
    "print(f\"The r-squared is: {rvalue**2}\")\n",
    "plt.savefig(\"humidity_latitude_north.png\")\n",
    "plt.show()"
   ]
  },
  {
   "cell_type": "code",
   "execution_count": null,
   "id": "75d6ade8",
   "metadata": {},
   "outputs": [],
   "source": [
    "# Southern Hemisphere - Humidity (%) vs. Latitude\n",
    "x_values = southern_cities_df['latitude']\n",
    "y_values = southern_cities_df['humidity']\n",
    "(slope, intercept, rvalue, pvalue, stderr) = linregress(x_values.astype(float), y_values)\n",
    "regress_values = x_values * slope + intercept\n",
    "line_eq = \"y = \" + str(round(slope,2)) + \"x + \" + str(round(intercept,2))\n",
    "plt.scatter(x_values,y_values, facecolors='blue')\n",
    "plt.plot(x_values,regress_values,\"r-\")\n",
    "plt.annotate(line_eq,(-80,20),fontsize=15,color=\"red\")\n",
    "plt.xlabel('Latitude, Southern Hemisphere')\n",
    "plt.ylabel('Humidity (%)')\n",
    "print(f\"The r-squared is: {rvalue**2}\")\n",
    "plt.savefig(\"humidity_latitude_south.png\")\n",
    "plt.show()"
   ]
  },
  {
   "cell_type": "markdown",
   "id": "02a7fd69",
   "metadata": {},
   "source": [
    "#### Analysis\n",
    "Both r-squared values are quite low, which means Humidity is not affected by latitude."
   ]
  },
  {
   "cell_type": "code",
   "execution_count": null,
   "id": "88532554",
   "metadata": {},
   "outputs": [],
   "source": [
    "# Northern Hemisphere - Cloudiness (%) vs. Latitude\n",
    "x_values = northern_cities_df['latitude']\n",
    "y_values = northern_cities_df['cloudiness']\n",
    "(slope, intercept, rvalue, pvalue, stderr) = linregress(x_values.astype(float), y_values)\n",
    "regress_values = x_values * slope + intercept\n",
    "line_eq = \"y = \" + str(round(slope,2)) + \"x + \" + str(round(intercept,2))\n",
    "plt.scatter(x_values,y_values, facecolors='gray')\n",
    "plt.plot(x_values,regress_values,\"r-\")\n",
    "plt.annotate(line_eq,(50,40),fontsize=15,color=\"red\")\n",
    "plt.xlabel('Latitude, Northern Hemisphere')\n",
    "plt.ylabel('Cloudiness (%)')\n",
    "print(f\"The r-squared is: {rvalue**2}\")\n",
    "plt.savefig(\"cloudiness_latitude_north.png\")\n",
    "plt.show()"
   ]
  },
  {
   "cell_type": "code",
   "execution_count": null,
   "id": "e2455432",
   "metadata": {},
   "outputs": [],
   "source": [
    "# Southern Hemisphere - Cloudiness (%) vs. Latitude\n",
    "x_values = southern_cities_df['latitude']\n",
    "y_values = southern_cities_df['cloudiness']\n",
    "(slope, intercept, rvalue, pvalue, stderr) = linregress(x_values.astype(float), y_values)\n",
    "regress_values = x_values * slope + intercept\n",
    "line_eq = \"y = \" + str(round(slope,2)) + \"x + \" + str(round(intercept,2))\n",
    "plt.scatter(x_values,y_values, facecolors='gray')\n",
    "plt.plot(x_values,regress_values,\"r-\")\n",
    "plt.annotate(line_eq,(-80,15),fontsize=15,color=\"red\")\n",
    "plt.xlabel('Latitude, Southern Hemisphere')\n",
    "plt.ylabel('Cloudiness (%)')\n",
    "print(f\"The r-squared is: {rvalue**2}\")\n",
    "plt.savefig(\"cloudiness_latitude_south.png\")\n",
    "plt.show()"
   ]
  },
  {
   "cell_type": "markdown",
   "id": "b3c29d02",
   "metadata": {},
   "source": [
    "#### Analysis\n",
    "As with Humidity, Cloudiness cannot be explained by latitdue. At least not by latitude only. Proximity to bodies and weather systems might do a better job."
   ]
  },
  {
   "cell_type": "code",
   "execution_count": null,
   "id": "1efaec6e",
   "metadata": {},
   "outputs": [],
   "source": [
    "# Northern Hemisphere - Wind Speed (mph) vs. Latitude\n",
    "x_values = northern_cities_df['latitude']\n",
    "y_values = northern_cities_df['wind_speed']\n",
    "(slope, intercept, rvalue, pvalue, stderr) = linregress(x_values.astype(float), y_values)\n",
    "regress_values = x_values * slope + intercept\n",
    "line_eq = \"y = \" + str(round(slope,2)) + \"x + \" + str(round(intercept,2))\n",
    "plt.scatter(x_values,y_values, facecolors='black')\n",
    "plt.plot(x_values,regress_values,\"r-\")\n",
    "plt.annotate(line_eq,(5,35),fontsize=15,color=\"red\")\n",
    "plt.xlabel('Latitude, Northern Hemisphere')\n",
    "plt.ylabel('Wind Speed (mph)')\n",
    "print(f\"The r-squared is: {rvalue**2}\")\n",
    "plt.savefig(\"windspeed_latitude_north.png\")\n",
    "plt.show()"
   ]
  },
  {
   "cell_type": "code",
   "execution_count": null,
   "id": "8ca7cf3b",
   "metadata": {},
   "outputs": [],
   "source": [
    "# Southern Hemisphere - Wind Speed (mph) vs. Latitude\n",
    "x_values = southern_cities_df['latitude']\n",
    "y_values = southern_cities_df['wind_speed']\n",
    "(slope, intercept, rvalue, pvalue, stderr) = linregress(x_values.astype(float), y_values)\n",
    "regress_values = x_values * slope + intercept\n",
    "line_eq = \"y = \" + str(round(slope,2)) + \"x + \" + str(round(intercept,2))\n",
    "plt.scatter(x_values,y_values, facecolors='black')\n",
    "plt.plot(x_values,regress_values,\"r-\")\n",
    "plt.annotate(line_eq,(-50,40),fontsize=15,color=\"red\")\n",
    "plt.xlabel('Latitude, Southern Hemisphere')\n",
    "plt.ylabel('Wind Speed (mph)')\n",
    "print(f\"The r-squared is: {rvalue**2}\")\n",
    "plt.savefig(\"windspeed_latitude_south.png\")\n",
    "plt.show()"
   ]
  },
  {
   "cell_type": "markdown",
   "id": "c4cddab9",
   "metadata": {},
   "source": [
    "#### Analysis\n",
    "Usually pressure systems and landscape affect wind speed, not latitude. In fact, both linear regressions show a low r-squared and a weak correlation"
   ]
  },
  {
   "cell_type": "markdown",
   "id": "393fba6a",
   "metadata": {},
   "source": [
    "\n",
    "### Limitations:\n",
    "The data collected from OpenWeather is the current weather measured today. Considering we are running this analysis in Fall, there will be difference between the Northern Hemisphere and the Southern Hemisphere. Also, the api was called at one point in the day. To get an accurate measurement, we shoould have collected data for minimum and maximum temperatures in the day. \n",
    "\n",
    "### Final Analysis\n",
    "Having performed the same analysis for all 4 dependent variables, temperature, humidity, cloudiness and wind speed, temperature is the only one showing a clear positive correlation to the measure of proximity to the equator. So in other words \"Duh, it does get hotter, and I can prove it!\" :)"
   ]
  },
  {
   "cell_type": "code",
   "execution_count": null,
   "id": "4238d816",
   "metadata": {},
   "outputs": [],
   "source": []
  }
 ],
 "metadata": {
  "kernelspec": {
   "display_name": "Python 3",
   "language": "python",
   "name": "python3"
  },
  "language_info": {
   "codemirror_mode": {
    "name": "ipython",
    "version": 3
   },
   "file_extension": ".py",
   "mimetype": "text/x-python",
   "name": "python",
   "nbconvert_exporter": "python",
   "pygments_lexer": "ipython3",
   "version": "3.8.8"
  }
 },
 "nbformat": 4,
 "nbformat_minor": 5
}
